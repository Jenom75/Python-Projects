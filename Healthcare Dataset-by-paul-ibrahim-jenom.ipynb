{
 "cells": [
  {
   "cell_type": "markdown",
   "id": "f4a802ca",
   "metadata": {
    "id": "_6rqXJhYlnrR",
    "papermill": {
     "duration": 0.013908,
     "end_time": "2024-12-12T12:15:20.089041",
     "exception": false,
     "start_time": "2024-12-12T12:15:20.075133",
     "status": "completed"
    },
    "tags": []
   },
   "source": [
    "# EXPLORATORY DATA ANALYSIS ON HEALTHCARE DATASET"
   ]
  },
  {
   "cell_type": "code",
   "execution_count": 1,
   "id": "76c8ff1c",
   "metadata": {
    "execution": {
     "iopub.execute_input": "2024-12-12T12:15:20.115204Z",
     "iopub.status.busy": "2024-12-12T12:15:20.114808Z",
     "iopub.status.idle": "2024-12-12T12:15:22.594251Z",
     "shell.execute_reply": "2024-12-12T12:15:22.593388Z"
    },
    "executionInfo": {
     "elapsed": 4,
     "status": "ok",
     "timestamp": 1733867908307,
     "user": {
      "displayName": "Paul Jenom",
      "userId": "01111414441425046796"
     },
     "user_tz": -60
    },
    "id": "zSn3Bbv7loKa",
    "papermill": {
     "duration": 2.494956,
     "end_time": "2024-12-12T12:15:22.596469",
     "exception": false,
     "start_time": "2024-12-12T12:15:20.101513",
     "status": "completed"
    },
    "tags": []
   },
   "outputs": [],
   "source": [
    "# Import all necessary libraries\n",
    "\n",
    "import pandas as pd\n",
    "\n",
    "import numpy as np\n",
    "\n",
    "import matplotlib.pyplot as plt\n",
    "\n",
    "import seaborn as sns"
   ]
  },
  {
   "cell_type": "code",
   "execution_count": 2,
   "id": "d2c0045a",
   "metadata": {
    "execution": {
     "iopub.execute_input": "2024-12-12T12:15:22.621740Z",
     "iopub.status.busy": "2024-12-12T12:15:22.620920Z",
     "iopub.status.idle": "2024-12-12T12:15:23.020519Z",
     "shell.execute_reply": "2024-12-12T12:15:23.019342Z"
    },
    "executionInfo": {
     "elapsed": 422,
     "status": "ok",
     "timestamp": 1733867909044,
     "user": {
      "displayName": "Paul Jenom",
      "userId": "01111414441425046796"
     },
     "user_tz": -60
    },
    "id": "nWXG8aQqjZ5a",
    "papermill": {
     "duration": 0.415123,
     "end_time": "2024-12-12T12:15:23.023274",
     "exception": false,
     "start_time": "2024-12-12T12:15:22.608151",
     "status": "completed"
    },
    "tags": []
   },
   "outputs": [],
   "source": [
    "# Importing the healthcare dataset\n",
    "\n",
    "data =  pd.read_csv('/kaggle/input/healthcare-dataset/healthcare_dataset.csv')"
   ]
  },
  {
   "cell_type": "code",
   "execution_count": 3,
   "id": "0217bef4",
   "metadata": {
    "execution": {
     "iopub.execute_input": "2024-12-12T12:15:23.051682Z",
     "iopub.status.busy": "2024-12-12T12:15:23.050625Z",
     "iopub.status.idle": "2024-12-12T12:15:23.083510Z",
     "shell.execute_reply": "2024-12-12T12:15:23.082414Z"
    },
    "executionInfo": {
     "elapsed": 546,
     "status": "ok",
     "timestamp": 1733867909587,
     "user": {
      "displayName": "Paul Jenom",
      "userId": "01111414441425046796"
     },
     "user_tz": -60
    },
    "id": "0vAdHL_ekCt1",
    "outputId": "d6cea4c4-0851-45ad-d7ce-9299d7a5f2d8",
    "papermill": {
     "duration": 0.049412,
     "end_time": "2024-12-12T12:15:23.086134",
     "exception": false,
     "start_time": "2024-12-12T12:15:23.036722",
     "status": "completed"
    },
    "tags": []
   },
   "outputs": [
    {
     "data": {
      "text/html": [
       "<div>\n",
       "<style scoped>\n",
       "    .dataframe tbody tr th:only-of-type {\n",
       "        vertical-align: middle;\n",
       "    }\n",
       "\n",
       "    .dataframe tbody tr th {\n",
       "        vertical-align: top;\n",
       "    }\n",
       "\n",
       "    .dataframe thead th {\n",
       "        text-align: right;\n",
       "    }\n",
       "</style>\n",
       "<table border=\"1\" class=\"dataframe\">\n",
       "  <thead>\n",
       "    <tr style=\"text-align: right;\">\n",
       "      <th></th>\n",
       "      <th>Name</th>\n",
       "      <th>Age</th>\n",
       "      <th>Gender</th>\n",
       "      <th>Blood Type</th>\n",
       "      <th>Medical Condition</th>\n",
       "      <th>Date of Admission</th>\n",
       "      <th>Doctor</th>\n",
       "      <th>Hospital</th>\n",
       "      <th>Insurance Provider</th>\n",
       "      <th>Billing Amount</th>\n",
       "      <th>Room Number</th>\n",
       "      <th>Admission Type</th>\n",
       "      <th>Discharge Date</th>\n",
       "      <th>Medication</th>\n",
       "      <th>Test Results</th>\n",
       "    </tr>\n",
       "  </thead>\n",
       "  <tbody>\n",
       "    <tr>\n",
       "      <th>0</th>\n",
       "      <td>Bobby JacksOn</td>\n",
       "      <td>30</td>\n",
       "      <td>Male</td>\n",
       "      <td>B-</td>\n",
       "      <td>Cancer</td>\n",
       "      <td>2024-01-31</td>\n",
       "      <td>Matthew Smith</td>\n",
       "      <td>Sons and Miller</td>\n",
       "      <td>Blue Cross</td>\n",
       "      <td>18856.281306</td>\n",
       "      <td>328</td>\n",
       "      <td>Urgent</td>\n",
       "      <td>2024-02-02</td>\n",
       "      <td>Paracetamol</td>\n",
       "      <td>Normal</td>\n",
       "    </tr>\n",
       "    <tr>\n",
       "      <th>1</th>\n",
       "      <td>LesLie TErRy</td>\n",
       "      <td>62</td>\n",
       "      <td>Male</td>\n",
       "      <td>A+</td>\n",
       "      <td>Obesity</td>\n",
       "      <td>2019-08-20</td>\n",
       "      <td>Samantha Davies</td>\n",
       "      <td>Kim Inc</td>\n",
       "      <td>Medicare</td>\n",
       "      <td>33643.327287</td>\n",
       "      <td>265</td>\n",
       "      <td>Emergency</td>\n",
       "      <td>2019-08-26</td>\n",
       "      <td>Ibuprofen</td>\n",
       "      <td>Inconclusive</td>\n",
       "    </tr>\n",
       "    <tr>\n",
       "      <th>2</th>\n",
       "      <td>DaNnY sMitH</td>\n",
       "      <td>76</td>\n",
       "      <td>Female</td>\n",
       "      <td>A-</td>\n",
       "      <td>Obesity</td>\n",
       "      <td>2022-09-22</td>\n",
       "      <td>Tiffany Mitchell</td>\n",
       "      <td>Cook PLC</td>\n",
       "      <td>Aetna</td>\n",
       "      <td>27955.096079</td>\n",
       "      <td>205</td>\n",
       "      <td>Emergency</td>\n",
       "      <td>2022-10-07</td>\n",
       "      <td>Aspirin</td>\n",
       "      <td>Normal</td>\n",
       "    </tr>\n",
       "    <tr>\n",
       "      <th>3</th>\n",
       "      <td>andrEw waTtS</td>\n",
       "      <td>28</td>\n",
       "      <td>Female</td>\n",
       "      <td>O+</td>\n",
       "      <td>Diabetes</td>\n",
       "      <td>2020-11-18</td>\n",
       "      <td>Kevin Wells</td>\n",
       "      <td>Hernandez Rogers and Vang,</td>\n",
       "      <td>Medicare</td>\n",
       "      <td>37909.782410</td>\n",
       "      <td>450</td>\n",
       "      <td>Elective</td>\n",
       "      <td>2020-12-18</td>\n",
       "      <td>Ibuprofen</td>\n",
       "      <td>Abnormal</td>\n",
       "    </tr>\n",
       "    <tr>\n",
       "      <th>4</th>\n",
       "      <td>adrIENNE bEll</td>\n",
       "      <td>43</td>\n",
       "      <td>Female</td>\n",
       "      <td>AB+</td>\n",
       "      <td>Cancer</td>\n",
       "      <td>2022-09-19</td>\n",
       "      <td>Kathleen Hanna</td>\n",
       "      <td>White-White</td>\n",
       "      <td>Aetna</td>\n",
       "      <td>14238.317814</td>\n",
       "      <td>458</td>\n",
       "      <td>Urgent</td>\n",
       "      <td>2022-10-09</td>\n",
       "      <td>Penicillin</td>\n",
       "      <td>Abnormal</td>\n",
       "    </tr>\n",
       "  </tbody>\n",
       "</table>\n",
       "</div>"
      ],
      "text/plain": [
       "            Name  Age  Gender Blood Type Medical Condition Date of Admission  \\\n",
       "0  Bobby JacksOn   30    Male         B-            Cancer        2024-01-31   \n",
       "1   LesLie TErRy   62    Male         A+           Obesity        2019-08-20   \n",
       "2    DaNnY sMitH   76  Female         A-           Obesity        2022-09-22   \n",
       "3   andrEw waTtS   28  Female         O+          Diabetes        2020-11-18   \n",
       "4  adrIENNE bEll   43  Female        AB+            Cancer        2022-09-19   \n",
       "\n",
       "             Doctor                    Hospital Insurance Provider  \\\n",
       "0     Matthew Smith             Sons and Miller         Blue Cross   \n",
       "1   Samantha Davies                     Kim Inc           Medicare   \n",
       "2  Tiffany Mitchell                    Cook PLC              Aetna   \n",
       "3       Kevin Wells  Hernandez Rogers and Vang,           Medicare   \n",
       "4    Kathleen Hanna                 White-White              Aetna   \n",
       "\n",
       "   Billing Amount  Room Number Admission Type Discharge Date   Medication  \\\n",
       "0    18856.281306          328         Urgent     2024-02-02  Paracetamol   \n",
       "1    33643.327287          265      Emergency     2019-08-26    Ibuprofen   \n",
       "2    27955.096079          205      Emergency     2022-10-07      Aspirin   \n",
       "3    37909.782410          450       Elective     2020-12-18    Ibuprofen   \n",
       "4    14238.317814          458         Urgent     2022-10-09   Penicillin   \n",
       "\n",
       "   Test Results  \n",
       "0        Normal  \n",
       "1  Inconclusive  \n",
       "2        Normal  \n",
       "3      Abnormal  \n",
       "4      Abnormal  "
      ]
     },
     "execution_count": 3,
     "metadata": {},
     "output_type": "execute_result"
    }
   ],
   "source": [
    "# Viewing the first few rows of the dataset\n",
    "\n",
    "data.head()"
   ]
  },
  {
   "cell_type": "code",
   "execution_count": 4,
   "id": "13220b5e",
   "metadata": {
    "execution": {
     "iopub.execute_input": "2024-12-12T12:15:23.126101Z",
     "iopub.status.busy": "2024-12-12T12:15:23.125394Z",
     "iopub.status.idle": "2024-12-12T12:15:23.141771Z",
     "shell.execute_reply": "2024-12-12T12:15:23.140671Z"
    },
    "executionInfo": {
     "elapsed": 364,
     "status": "ok",
     "timestamp": 1733867909940,
     "user": {
      "displayName": "Paul Jenom",
      "userId": "01111414441425046796"
     },
     "user_tz": -60
    },
    "id": "A2RElKZpmPvg",
    "outputId": "76063399-45d5-4d95-a733-e95357522386",
    "papermill": {
     "duration": 0.040734,
     "end_time": "2024-12-12T12:15:23.144512",
     "exception": false,
     "start_time": "2024-12-12T12:15:23.103778",
     "status": "completed"
    },
    "tags": []
   },
   "outputs": [
    {
     "data": {
      "text/html": [
       "<div>\n",
       "<style scoped>\n",
       "    .dataframe tbody tr th:only-of-type {\n",
       "        vertical-align: middle;\n",
       "    }\n",
       "\n",
       "    .dataframe tbody tr th {\n",
       "        vertical-align: top;\n",
       "    }\n",
       "\n",
       "    .dataframe thead th {\n",
       "        text-align: right;\n",
       "    }\n",
       "</style>\n",
       "<table border=\"1\" class=\"dataframe\">\n",
       "  <thead>\n",
       "    <tr style=\"text-align: right;\">\n",
       "      <th></th>\n",
       "      <th>Name</th>\n",
       "      <th>Age</th>\n",
       "      <th>Gender</th>\n",
       "      <th>Blood Type</th>\n",
       "      <th>Medical Condition</th>\n",
       "      <th>Date of Admission</th>\n",
       "      <th>Doctor</th>\n",
       "      <th>Hospital</th>\n",
       "      <th>Insurance Provider</th>\n",
       "      <th>Billing Amount</th>\n",
       "      <th>Room Number</th>\n",
       "      <th>Admission Type</th>\n",
       "      <th>Discharge Date</th>\n",
       "      <th>Medication</th>\n",
       "      <th>Test Results</th>\n",
       "    </tr>\n",
       "  </thead>\n",
       "  <tbody>\n",
       "    <tr>\n",
       "      <th>55495</th>\n",
       "      <td>eLIZABeTH jaCkSOn</td>\n",
       "      <td>42</td>\n",
       "      <td>Female</td>\n",
       "      <td>O+</td>\n",
       "      <td>Asthma</td>\n",
       "      <td>2020-08-16</td>\n",
       "      <td>Joshua Jarvis</td>\n",
       "      <td>Jones-Thompson</td>\n",
       "      <td>Blue Cross</td>\n",
       "      <td>2650.714952</td>\n",
       "      <td>417</td>\n",
       "      <td>Elective</td>\n",
       "      <td>2020-09-15</td>\n",
       "      <td>Penicillin</td>\n",
       "      <td>Abnormal</td>\n",
       "    </tr>\n",
       "    <tr>\n",
       "      <th>55496</th>\n",
       "      <td>KYle pEREz</td>\n",
       "      <td>61</td>\n",
       "      <td>Female</td>\n",
       "      <td>AB-</td>\n",
       "      <td>Obesity</td>\n",
       "      <td>2020-01-23</td>\n",
       "      <td>Taylor Sullivan</td>\n",
       "      <td>Tucker-Moyer</td>\n",
       "      <td>Cigna</td>\n",
       "      <td>31457.797307</td>\n",
       "      <td>316</td>\n",
       "      <td>Elective</td>\n",
       "      <td>2020-02-01</td>\n",
       "      <td>Aspirin</td>\n",
       "      <td>Normal</td>\n",
       "    </tr>\n",
       "    <tr>\n",
       "      <th>55497</th>\n",
       "      <td>HEATher WaNG</td>\n",
       "      <td>38</td>\n",
       "      <td>Female</td>\n",
       "      <td>B+</td>\n",
       "      <td>Hypertension</td>\n",
       "      <td>2020-07-13</td>\n",
       "      <td>Joe Jacobs DVM</td>\n",
       "      <td>and Mahoney Johnson Vasquez,</td>\n",
       "      <td>UnitedHealthcare</td>\n",
       "      <td>27620.764717</td>\n",
       "      <td>347</td>\n",
       "      <td>Urgent</td>\n",
       "      <td>2020-08-10</td>\n",
       "      <td>Ibuprofen</td>\n",
       "      <td>Abnormal</td>\n",
       "    </tr>\n",
       "    <tr>\n",
       "      <th>55498</th>\n",
       "      <td>JENniFER JOneS</td>\n",
       "      <td>43</td>\n",
       "      <td>Male</td>\n",
       "      <td>O-</td>\n",
       "      <td>Arthritis</td>\n",
       "      <td>2019-05-25</td>\n",
       "      <td>Kimberly Curry</td>\n",
       "      <td>Jackson Todd and Castro,</td>\n",
       "      <td>Medicare</td>\n",
       "      <td>32451.092358</td>\n",
       "      <td>321</td>\n",
       "      <td>Elective</td>\n",
       "      <td>2019-05-31</td>\n",
       "      <td>Ibuprofen</td>\n",
       "      <td>Abnormal</td>\n",
       "    </tr>\n",
       "    <tr>\n",
       "      <th>55499</th>\n",
       "      <td>jAMES GARCiA</td>\n",
       "      <td>53</td>\n",
       "      <td>Female</td>\n",
       "      <td>O+</td>\n",
       "      <td>Arthritis</td>\n",
       "      <td>2024-04-02</td>\n",
       "      <td>Dennis Warren</td>\n",
       "      <td>Henry Sons and</td>\n",
       "      <td>Aetna</td>\n",
       "      <td>4010.134172</td>\n",
       "      <td>448</td>\n",
       "      <td>Urgent</td>\n",
       "      <td>2024-04-29</td>\n",
       "      <td>Ibuprofen</td>\n",
       "      <td>Abnormal</td>\n",
       "    </tr>\n",
       "  </tbody>\n",
       "</table>\n",
       "</div>"
      ],
      "text/plain": [
       "                    Name  Age  Gender Blood Type Medical Condition  \\\n",
       "55495  eLIZABeTH jaCkSOn   42  Female         O+            Asthma   \n",
       "55496         KYle pEREz   61  Female        AB-           Obesity   \n",
       "55497       HEATher WaNG   38  Female         B+      Hypertension   \n",
       "55498     JENniFER JOneS   43    Male         O-         Arthritis   \n",
       "55499       jAMES GARCiA   53  Female         O+         Arthritis   \n",
       "\n",
       "      Date of Admission           Doctor                      Hospital  \\\n",
       "55495        2020-08-16    Joshua Jarvis                Jones-Thompson   \n",
       "55496        2020-01-23  Taylor Sullivan                  Tucker-Moyer   \n",
       "55497        2020-07-13   Joe Jacobs DVM  and Mahoney Johnson Vasquez,   \n",
       "55498        2019-05-25   Kimberly Curry      Jackson Todd and Castro,   \n",
       "55499        2024-04-02    Dennis Warren                Henry Sons and   \n",
       "\n",
       "      Insurance Provider  Billing Amount  Room Number Admission Type  \\\n",
       "55495         Blue Cross     2650.714952          417       Elective   \n",
       "55496              Cigna    31457.797307          316       Elective   \n",
       "55497   UnitedHealthcare    27620.764717          347         Urgent   \n",
       "55498           Medicare    32451.092358          321       Elective   \n",
       "55499              Aetna     4010.134172          448         Urgent   \n",
       "\n",
       "      Discharge Date  Medication Test Results  \n",
       "55495     2020-09-15  Penicillin     Abnormal  \n",
       "55496     2020-02-01     Aspirin       Normal  \n",
       "55497     2020-08-10   Ibuprofen     Abnormal  \n",
       "55498     2019-05-31   Ibuprofen     Abnormal  \n",
       "55499     2024-04-29   Ibuprofen     Abnormal  "
      ]
     },
     "execution_count": 4,
     "metadata": {},
     "output_type": "execute_result"
    }
   ],
   "source": [
    "# Viewing the last few rows of the dataset\n",
    "\n",
    "data.tail()"
   ]
  },
  {
   "cell_type": "markdown",
   "id": "786f6d13",
   "metadata": {
    "id": "WVM4EfVxmjGk",
    "papermill": {
     "duration": 0.012499,
     "end_time": "2024-12-12T12:15:23.174964",
     "exception": false,
     "start_time": "2024-12-12T12:15:23.162465",
     "status": "completed"
    },
    "tags": []
   },
   "source": [
    "## Checking basic information about the dataset"
   ]
  },
  {
   "cell_type": "code",
   "execution_count": 5,
   "id": "2ca1bf47",
   "metadata": {
    "execution": {
     "iopub.execute_input": "2024-12-12T12:15:23.201197Z",
     "iopub.status.busy": "2024-12-12T12:15:23.200820Z",
     "iopub.status.idle": "2024-12-12T12:15:23.268985Z",
     "shell.execute_reply": "2024-12-12T12:15:23.267588Z"
    },
    "executionInfo": {
     "elapsed": 44,
     "status": "ok",
     "timestamp": 1733867909941,
     "user": {
      "displayName": "Paul Jenom",
      "userId": "01111414441425046796"
     },
     "user_tz": -60
    },
    "id": "gW7W1BqQmrN2",
    "outputId": "39c8c9bf-b2e2-4703-cd02-2ff001227432",
    "papermill": {
     "duration": 0.084001,
     "end_time": "2024-12-12T12:15:23.271305",
     "exception": false,
     "start_time": "2024-12-12T12:15:23.187304",
     "status": "completed"
    },
    "tags": []
   },
   "outputs": [
    {
     "name": "stdout",
     "output_type": "stream",
     "text": [
      "<class 'pandas.core.frame.DataFrame'>\n",
      "RangeIndex: 55500 entries, 0 to 55499\n",
      "Data columns (total 15 columns):\n",
      " #   Column              Non-Null Count  Dtype  \n",
      "---  ------              --------------  -----  \n",
      " 0   Name                55500 non-null  object \n",
      " 1   Age                 55500 non-null  int64  \n",
      " 2   Gender              55500 non-null  object \n",
      " 3   Blood Type          55500 non-null  object \n",
      " 4   Medical Condition   55500 non-null  object \n",
      " 5   Date of Admission   55500 non-null  object \n",
      " 6   Doctor              55500 non-null  object \n",
      " 7   Hospital            55500 non-null  object \n",
      " 8   Insurance Provider  55500 non-null  object \n",
      " 9   Billing Amount      55500 non-null  float64\n",
      " 10  Room Number         55500 non-null  int64  \n",
      " 11  Admission Type      55500 non-null  object \n",
      " 12  Discharge Date      55500 non-null  object \n",
      " 13  Medication          55500 non-null  object \n",
      " 14  Test Results        55500 non-null  object \n",
      "dtypes: float64(1), int64(2), object(12)\n",
      "memory usage: 6.4+ MB\n"
     ]
    }
   ],
   "source": [
    "# Info about dataset\n",
    "\n",
    "data.info()"
   ]
  },
  {
   "cell_type": "code",
   "execution_count": 6,
   "id": "80ad5c66",
   "metadata": {
    "execution": {
     "iopub.execute_input": "2024-12-12T12:15:23.306223Z",
     "iopub.status.busy": "2024-12-12T12:15:23.305811Z",
     "iopub.status.idle": "2024-12-12T12:15:23.334750Z",
     "shell.execute_reply": "2024-12-12T12:15:23.333680Z"
    },
    "executionInfo": {
     "elapsed": 36,
     "status": "ok",
     "timestamp": 1733867909941,
     "user": {
      "displayName": "Paul Jenom",
      "userId": "01111414441425046796"
     },
     "user_tz": -60
    },
    "id": "KFEUg-pqmxEC",
    "outputId": "59db8a47-6a04-435a-c338-55fa4e7478ac",
    "papermill": {
     "duration": 0.052938,
     "end_time": "2024-12-12T12:15:23.337607",
     "exception": false,
     "start_time": "2024-12-12T12:15:23.284669",
     "status": "completed"
    },
    "tags": []
   },
   "outputs": [
    {
     "data": {
      "text/html": [
       "<div>\n",
       "<style scoped>\n",
       "    .dataframe tbody tr th:only-of-type {\n",
       "        vertical-align: middle;\n",
       "    }\n",
       "\n",
       "    .dataframe tbody tr th {\n",
       "        vertical-align: top;\n",
       "    }\n",
       "\n",
       "    .dataframe thead th {\n",
       "        text-align: right;\n",
       "    }\n",
       "</style>\n",
       "<table border=\"1\" class=\"dataframe\">\n",
       "  <thead>\n",
       "    <tr style=\"text-align: right;\">\n",
       "      <th></th>\n",
       "      <th>Age</th>\n",
       "      <th>Billing Amount</th>\n",
       "      <th>Room Number</th>\n",
       "    </tr>\n",
       "  </thead>\n",
       "  <tbody>\n",
       "    <tr>\n",
       "      <th>count</th>\n",
       "      <td>55500.000000</td>\n",
       "      <td>55500.000000</td>\n",
       "      <td>55500.000000</td>\n",
       "    </tr>\n",
       "    <tr>\n",
       "      <th>mean</th>\n",
       "      <td>51.539459</td>\n",
       "      <td>25539.316097</td>\n",
       "      <td>301.134829</td>\n",
       "    </tr>\n",
       "    <tr>\n",
       "      <th>std</th>\n",
       "      <td>19.602454</td>\n",
       "      <td>14211.454431</td>\n",
       "      <td>115.243069</td>\n",
       "    </tr>\n",
       "    <tr>\n",
       "      <th>min</th>\n",
       "      <td>13.000000</td>\n",
       "      <td>-2008.492140</td>\n",
       "      <td>101.000000</td>\n",
       "    </tr>\n",
       "    <tr>\n",
       "      <th>25%</th>\n",
       "      <td>35.000000</td>\n",
       "      <td>13241.224652</td>\n",
       "      <td>202.000000</td>\n",
       "    </tr>\n",
       "    <tr>\n",
       "      <th>50%</th>\n",
       "      <td>52.000000</td>\n",
       "      <td>25538.069376</td>\n",
       "      <td>302.000000</td>\n",
       "    </tr>\n",
       "    <tr>\n",
       "      <th>75%</th>\n",
       "      <td>68.000000</td>\n",
       "      <td>37820.508436</td>\n",
       "      <td>401.000000</td>\n",
       "    </tr>\n",
       "    <tr>\n",
       "      <th>max</th>\n",
       "      <td>89.000000</td>\n",
       "      <td>52764.276736</td>\n",
       "      <td>500.000000</td>\n",
       "    </tr>\n",
       "  </tbody>\n",
       "</table>\n",
       "</div>"
      ],
      "text/plain": [
       "                Age  Billing Amount   Room Number\n",
       "count  55500.000000    55500.000000  55500.000000\n",
       "mean      51.539459    25539.316097    301.134829\n",
       "std       19.602454    14211.454431    115.243069\n",
       "min       13.000000    -2008.492140    101.000000\n",
       "25%       35.000000    13241.224652    202.000000\n",
       "50%       52.000000    25538.069376    302.000000\n",
       "75%       68.000000    37820.508436    401.000000\n",
       "max       89.000000    52764.276736    500.000000"
      ]
     },
     "execution_count": 6,
     "metadata": {},
     "output_type": "execute_result"
    }
   ],
   "source": [
    "# Description of the dataset\n",
    "\n",
    "data.describe()"
   ]
  },
  {
   "cell_type": "code",
   "execution_count": 7,
   "id": "ea4e72fd",
   "metadata": {
    "execution": {
     "iopub.execute_input": "2024-12-12T12:15:23.373375Z",
     "iopub.status.busy": "2024-12-12T12:15:23.372327Z",
     "iopub.status.idle": "2024-12-12T12:15:23.380428Z",
     "shell.execute_reply": "2024-12-12T12:15:23.379266Z"
    },
    "executionInfo": {
     "elapsed": 34,
     "status": "ok",
     "timestamp": 1733867909941,
     "user": {
      "displayName": "Paul Jenom",
      "userId": "01111414441425046796"
     },
     "user_tz": -60
    },
    "id": "wylpi4zen3U3",
    "outputId": "8d098233-b014-4e19-ca6b-84f7f558337c",
    "papermill": {
     "duration": 0.024359,
     "end_time": "2024-12-12T12:15:23.382495",
     "exception": false,
     "start_time": "2024-12-12T12:15:23.358136",
     "status": "completed"
    },
    "tags": []
   },
   "outputs": [
    {
     "data": {
      "text/plain": [
       "Index(['Name', 'Age', 'Gender', 'Blood Type', 'Medical Condition',\n",
       "       'Date of Admission', 'Doctor', 'Hospital', 'Insurance Provider',\n",
       "       'Billing Amount', 'Room Number', 'Admission Type', 'Discharge Date',\n",
       "       'Medication', 'Test Results'],\n",
       "      dtype='object')"
      ]
     },
     "execution_count": 7,
     "metadata": {},
     "output_type": "execute_result"
    }
   ],
   "source": [
    "# Checking the column names\n",
    "\n",
    "data.columns"
   ]
  },
  {
   "cell_type": "code",
   "execution_count": 8,
   "id": "eca055af",
   "metadata": {
    "execution": {
     "iopub.execute_input": "2024-12-12T12:15:23.410186Z",
     "iopub.status.busy": "2024-12-12T12:15:23.409118Z",
     "iopub.status.idle": "2024-12-12T12:15:23.446590Z",
     "shell.execute_reply": "2024-12-12T12:15:23.445371Z"
    },
    "executionInfo": {
     "elapsed": 27,
     "status": "ok",
     "timestamp": 1733867909942,
     "user": {
      "displayName": "Paul Jenom",
      "userId": "01111414441425046796"
     },
     "user_tz": -60
    },
    "id": "h27fpUtOpaF7",
    "papermill": {
     "duration": 0.054484,
     "end_time": "2024-12-12T12:15:23.449534",
     "exception": false,
     "start_time": "2024-12-12T12:15:23.395050",
     "status": "completed"
    },
    "tags": []
   },
   "outputs": [],
   "source": [
    "# Change Date of Admission and Discharge Date to DateTime\n",
    "\n",
    "data['Date of Admission'] = pd.to_datetime(data['Date of Admission'])\n",
    "\n",
    "data['Discharge Date'] = pd.to_datetime(data['Discharge Date'])"
   ]
  },
  {
   "cell_type": "code",
   "execution_count": 9,
   "id": "92406669",
   "metadata": {
    "execution": {
     "iopub.execute_input": "2024-12-12T12:15:23.483151Z",
     "iopub.status.busy": "2024-12-12T12:15:23.482132Z",
     "iopub.status.idle": "2024-12-12T12:15:23.530867Z",
     "shell.execute_reply": "2024-12-12T12:15:23.529694Z"
    },
    "executionInfo": {
     "elapsed": 26,
     "status": "ok",
     "timestamp": 1733867909942,
     "user": {
      "displayName": "Paul Jenom",
      "userId": "01111414441425046796"
     },
     "user_tz": -60
    },
    "id": "FVYJxPRXqQnK",
    "outputId": "572ed356-83eb-4aee-db06-dbeb1630912a",
    "papermill": {
     "duration": 0.066318,
     "end_time": "2024-12-12T12:15:23.534048",
     "exception": false,
     "start_time": "2024-12-12T12:15:23.467730",
     "status": "completed"
    },
    "tags": []
   },
   "outputs": [
    {
     "name": "stdout",
     "output_type": "stream",
     "text": [
      "<class 'pandas.core.frame.DataFrame'>\n",
      "RangeIndex: 55500 entries, 0 to 55499\n",
      "Data columns (total 15 columns):\n",
      " #   Column              Non-Null Count  Dtype         \n",
      "---  ------              --------------  -----         \n",
      " 0   Name                55500 non-null  object        \n",
      " 1   Age                 55500 non-null  int64         \n",
      " 2   Gender              55500 non-null  object        \n",
      " 3   Blood Type          55500 non-null  object        \n",
      " 4   Medical Condition   55500 non-null  object        \n",
      " 5   Date of Admission   55500 non-null  datetime64[ns]\n",
      " 6   Doctor              55500 non-null  object        \n",
      " 7   Hospital            55500 non-null  object        \n",
      " 8   Insurance Provider  55500 non-null  object        \n",
      " 9   Billing Amount      55500 non-null  float64       \n",
      " 10  Room Number         55500 non-null  int64         \n",
      " 11  Admission Type      55500 non-null  object        \n",
      " 12  Discharge Date      55500 non-null  datetime64[ns]\n",
      " 13  Medication          55500 non-null  object        \n",
      " 14  Test Results        55500 non-null  object        \n",
      "dtypes: datetime64[ns](2), float64(1), int64(2), object(10)\n",
      "memory usage: 6.4+ MB\n"
     ]
    }
   ],
   "source": [
    "data.info()"
   ]
  },
  {
   "cell_type": "code",
   "execution_count": 10,
   "id": "30b30d14",
   "metadata": {
    "execution": {
     "iopub.execute_input": "2024-12-12T12:15:23.568129Z",
     "iopub.status.busy": "2024-12-12T12:15:23.567186Z",
     "iopub.status.idle": "2024-12-12T12:15:23.606539Z",
     "shell.execute_reply": "2024-12-12T12:15:23.605518Z"
    },
    "executionInfo": {
     "elapsed": 327,
     "status": "ok",
     "timestamp": 1733867910247,
     "user": {
      "displayName": "Paul Jenom",
      "userId": "01111414441425046796"
     },
     "user_tz": -60
    },
    "id": "XfGQIvDaqle_",
    "outputId": "d55cd1e1-a1a0-4baf-e09a-71f09fa16b85",
    "papermill": {
     "duration": 0.056554,
     "end_time": "2024-12-12T12:15:23.609591",
     "exception": false,
     "start_time": "2024-12-12T12:15:23.553037",
     "status": "completed"
    },
    "tags": []
   },
   "outputs": [
    {
     "data": {
      "text/plain": [
       "Name                  0\n",
       "Age                   0\n",
       "Gender                0\n",
       "Blood Type            0\n",
       "Medical Condition     0\n",
       "Date of Admission     0\n",
       "Doctor                0\n",
       "Hospital              0\n",
       "Insurance Provider    0\n",
       "Billing Amount        0\n",
       "Room Number           0\n",
       "Admission Type        0\n",
       "Discharge Date        0\n",
       "Medication            0\n",
       "Test Results          0\n",
       "dtype: int64"
      ]
     },
     "execution_count": 10,
     "metadata": {},
     "output_type": "execute_result"
    }
   ],
   "source": [
    "# Checking for missing values\n",
    "\n",
    "data.isnull().sum()"
   ]
  },
  {
   "cell_type": "code",
   "execution_count": 11,
   "id": "286ea346",
   "metadata": {
    "execution": {
     "iopub.execute_input": "2024-12-12T12:15:23.642125Z",
     "iopub.status.busy": "2024-12-12T12:15:23.641247Z",
     "iopub.status.idle": "2024-12-12T12:15:23.742301Z",
     "shell.execute_reply": "2024-12-12T12:15:23.740974Z"
    },
    "executionInfo": {
     "elapsed": 326,
     "status": "ok",
     "timestamp": 1733867910249,
     "user": {
      "displayName": "Paul Jenom",
      "userId": "01111414441425046796"
     },
     "user_tz": -60
    },
    "id": "VjgsDyi3rZ2T",
    "outputId": "15626b7e-1126-45b8-b289-b2c14ee0754d",
    "papermill": {
     "duration": 0.117094,
     "end_time": "2024-12-12T12:15:23.744541",
     "exception": false,
     "start_time": "2024-12-12T12:15:23.627447",
     "status": "completed"
    },
    "tags": []
   },
   "outputs": [
    {
     "data": {
      "text/plain": [
       "Name                  0\n",
       "Age                   0\n",
       "Gender                0\n",
       "Blood Type            0\n",
       "Medical Condition     0\n",
       "Date of Admission     0\n",
       "Doctor                0\n",
       "Hospital              0\n",
       "Insurance Provider    0\n",
       "Billing Amount        0\n",
       "Room Number           0\n",
       "Admission Type        0\n",
       "Discharge Date        0\n",
       "Medication            0\n",
       "Test Results          0\n",
       "dtype: int64"
      ]
     },
     "execution_count": 11,
     "metadata": {},
     "output_type": "execute_result"
    }
   ],
   "source": [
    "# Dropping the null values in the dataset\n",
    "\n",
    "data.dropna(inplace=True)\n",
    "\n",
    "data.isnull().sum()"
   ]
  },
  {
   "cell_type": "code",
   "execution_count": 12,
   "id": "9e6b790b",
   "metadata": {
    "execution": {
     "iopub.execute_input": "2024-12-12T12:15:23.772437Z",
     "iopub.status.busy": "2024-12-12T12:15:23.771296Z",
     "iopub.status.idle": "2024-12-12T12:15:23.838046Z",
     "shell.execute_reply": "2024-12-12T12:15:23.836999Z"
    },
    "executionInfo": {
     "elapsed": 23,
     "status": "ok",
     "timestamp": 1733867910249,
     "user": {
      "displayName": "Paul Jenom",
      "userId": "01111414441425046796"
     },
     "user_tz": -60
    },
    "id": "crCQEWAhvQ7t",
    "outputId": "d3fbae62-b3c4-445a-dd0e-622439396e44",
    "papermill": {
     "duration": 0.083316,
     "end_time": "2024-12-12T12:15:23.840672",
     "exception": false,
     "start_time": "2024-12-12T12:15:23.757356",
     "status": "completed"
    },
    "tags": []
   },
   "outputs": [
    {
     "data": {
      "text/plain": [
       "Name                  49992\n",
       "Age                      77\n",
       "Gender                    2\n",
       "Blood Type                8\n",
       "Medical Condition         6\n",
       "Date of Admission      1827\n",
       "Doctor                40341\n",
       "Hospital              39876\n",
       "Insurance Provider        5\n",
       "Billing Amount        50000\n",
       "Room Number             400\n",
       "Admission Type            3\n",
       "Discharge Date         1856\n",
       "Medication                5\n",
       "Test Results              3\n",
       "dtype: int64"
      ]
     },
     "execution_count": 12,
     "metadata": {},
     "output_type": "execute_result"
    }
   ],
   "source": [
    "# Unique count of each column\n",
    "\n",
    "data.nunique()"
   ]
  },
  {
   "cell_type": "code",
   "execution_count": 13,
   "id": "4ce6acf0",
   "metadata": {
    "execution": {
     "iopub.execute_input": "2024-12-12T12:15:23.868276Z",
     "iopub.status.busy": "2024-12-12T12:15:23.867904Z",
     "iopub.status.idle": "2024-12-12T12:15:23.898907Z",
     "shell.execute_reply": "2024-12-12T12:15:23.897819Z"
    },
    "executionInfo": {
     "elapsed": 21,
     "status": "ok",
     "timestamp": 1733867910249,
     "user": {
      "displayName": "Paul Jenom",
      "userId": "01111414441425046796"
     },
     "user_tz": -60
    },
    "id": "JzIhl817uETT",
    "outputId": "6d885456-e62e-4282-ead1-7b09d13da74f",
    "papermill": {
     "duration": 0.047397,
     "end_time": "2024-12-12T12:15:23.901146",
     "exception": false,
     "start_time": "2024-12-12T12:15:23.853749",
     "status": "completed"
    },
    "tags": []
   },
   "outputs": [
    {
     "data": {
      "text/plain": [
       "Doctor\n",
       "Michael Smith           27\n",
       "Robert Smith            22\n",
       "John Smith              22\n",
       "Michael Johnson         20\n",
       "James Smith             20\n",
       "                        ..\n",
       "Audrey Zimmerman DDS     1\n",
       "Justin Banks             1\n",
       "Joseph Williams Jr.      1\n",
       "Jason Franklin           1\n",
       "Jeffrey Moore            1\n",
       "Name: count, Length: 40341, dtype: int64"
      ]
     },
     "execution_count": 13,
     "metadata": {},
     "output_type": "execute_result"
    }
   ],
   "source": [
    "# Doctor with the highest number of visits\n",
    "\n",
    "data['Doctor'].value_counts()"
   ]
  },
  {
   "cell_type": "code",
   "execution_count": 14,
   "id": "c158f28b",
   "metadata": {
    "execution": {
     "iopub.execute_input": "2024-12-12T12:15:23.929409Z",
     "iopub.status.busy": "2024-12-12T12:15:23.928941Z",
     "iopub.status.idle": "2024-12-12T12:15:24.246669Z",
     "shell.execute_reply": "2024-12-12T12:15:24.245546Z"
    },
    "executionInfo": {
     "elapsed": 394,
     "status": "ok",
     "timestamp": 1733867910625,
     "user": {
      "displayName": "Paul Jenom",
      "userId": "01111414441425046796"
     },
     "user_tz": -60
    },
    "id": "v2fpoMaUuf4k",
    "outputId": "2c16607a-4b4d-4d51-b88e-6dd7c7795c53",
    "papermill": {
     "duration": 0.335057,
     "end_time": "2024-12-12T12:15:24.249492",
     "exception": false,
     "start_time": "2024-12-12T12:15:23.914435",
     "status": "completed"
    },
    "tags": []
   },
   "outputs": [
    {
     "data": {
      "image/png": "[encoded data removed]",
      "text/plain": [
       "<Figure size 640x480 with 1 Axes>"
      ]
     },
     "metadata": {},
     "output_type": "display_data"
    }
   ],
   "source": [
    "# Bar chat of top 10 doctors with the highes number of patients\n",
    "\n",
    "plt.bar(data['Doctor'].value_counts()[:10].index, data['Doctor'].value_counts()[:10].values)\n",
    "\n",
    "plt.xticks(rotation=90)\n",
    "\n",
    "plt.show()"
   ]
  },
  {
   "cell_type": "code",
   "execution_count": 15,
   "id": "55294b08",
   "metadata": {
    "execution": {
     "iopub.execute_input": "2024-12-12T12:15:24.278991Z",
     "iopub.status.busy": "2024-12-12T12:15:24.278171Z",
     "iopub.status.idle": "2024-12-12T12:15:24.289752Z",
     "shell.execute_reply": "2024-12-12T12:15:24.288604Z"
    },
    "executionInfo": {
     "elapsed": 17,
     "status": "ok",
     "timestamp": 1733867910625,
     "user": {
      "displayName": "Paul Jenom",
      "userId": "01111414441425046796"
     },
     "user_tz": -60
    },
    "id": "p_TK83NQ4xD5",
    "outputId": "f08c0d77-037d-4f9e-e75c-6d0588b96955",
    "papermill": {
     "duration": 0.028579,
     "end_time": "2024-12-12T12:15:24.291846",
     "exception": false,
     "start_time": "2024-12-12T12:15:24.263267",
     "status": "completed"
    },
    "tags": []
   },
   "outputs": [
    {
     "data": {
      "text/plain": [
       "Medical Condition\n",
       "Arthritis       9308\n",
       "Diabetes        9304\n",
       "Hypertension    9245\n",
       "Obesity         9231\n",
       "Cancer          9227\n",
       "Asthma          9185\n",
       "Name: count, dtype: int64"
      ]
     },
     "execution_count": 15,
     "metadata": {},
     "output_type": "execute_result"
    }
   ],
   "source": [
    "# Highest occuring medical conditions\n",
    "\n",
    "data['Medical Condition'].value_counts()"
   ]
  },
  {
   "cell_type": "code",
   "execution_count": 16,
   "id": "37662c68",
   "metadata": {
    "execution": {
     "iopub.execute_input": "2024-12-12T12:15:24.321000Z",
     "iopub.status.busy": "2024-12-12T12:15:24.320014Z",
     "iopub.status.idle": "2024-12-12T12:15:24.335754Z",
     "shell.execute_reply": "2024-12-12T12:15:24.334621Z"
    },
    "executionInfo": {
     "elapsed": 507,
     "status": "ok",
     "timestamp": 1733867911120,
     "user": {
      "displayName": "Paul Jenom",
      "userId": "01111414441425046796"
     },
     "user_tz": -60
    },
    "id": "kYLFnngtv1Sj",
    "outputId": "15092d7e-5444-438a-8e36-59726c108d3e",
    "papermill": {
     "duration": 0.032446,
     "end_time": "2024-12-12T12:15:24.337790",
     "exception": false,
     "start_time": "2024-12-12T12:15:24.305344",
     "status": "completed"
    },
    "tags": []
   },
   "outputs": [
    {
     "data": {
      "text/plain": [
       "Gender\n",
       "Male      27774\n",
       "Female    27726\n",
       "Name: count, dtype: int64"
      ]
     },
     "execution_count": 16,
     "metadata": {},
     "output_type": "execute_result"
    }
   ],
   "source": [
    "# Sum of male and female patients\n",
    "\n",
    "data['Gender'].value_counts()"
   ]
  },
  {
   "cell_type": "code",
   "execution_count": 17,
   "id": "4467abb7",
   "metadata": {
    "execution": {
     "iopub.execute_input": "2024-12-12T12:15:24.367685Z",
     "iopub.status.busy": "2024-12-12T12:15:24.366745Z",
     "iopub.status.idle": "2024-12-12T12:15:24.374918Z",
     "shell.execute_reply": "2024-12-12T12:15:24.373737Z"
    },
    "executionInfo": {
     "elapsed": 44,
     "status": "ok",
     "timestamp": 1733867911120,
     "user": {
      "displayName": "Paul Jenom",
      "userId": "01111414441425046796"
     },
     "user_tz": -60
    },
    "id": "ogMBzLqvxw33",
    "outputId": "2fe5a51c-70ca-4ef3-8836-8bae8ae87778",
    "papermill": {
     "duration": 0.025441,
     "end_time": "2024-12-12T12:15:24.377167",
     "exception": false,
     "start_time": "2024-12-12T12:15:24.351726",
     "status": "completed"
    },
    "tags": []
   },
   "outputs": [
    {
     "data": {
      "text/plain": [
       "89"
      ]
     },
     "execution_count": 17,
     "metadata": {},
     "output_type": "execute_result"
    }
   ],
   "source": [
    "# Maximum age from dataset\n",
    "\n",
    "data.Age.max()"
   ]
  },
  {
   "cell_type": "code",
   "execution_count": 18,
   "id": "b69f4658",
   "metadata": {
    "execution": {
     "iopub.execute_input": "2024-12-12T12:15:24.409225Z",
     "iopub.status.busy": "2024-12-12T12:15:24.408868Z",
     "iopub.status.idle": "2024-12-12T12:15:24.415925Z",
     "shell.execute_reply": "2024-12-12T12:15:24.414854Z"
    },
    "executionInfo": {
     "elapsed": 40,
     "status": "ok",
     "timestamp": 1733867911120,
     "user": {
      "displayName": "Paul Jenom",
      "userId": "01111414441425046796"
     },
     "user_tz": -60
    },
    "id": "cQ8sgLOcx1VA",
    "outputId": "03692aaf-1792-41ef-c77c-548d4061e128",
    "papermill": {
     "duration": 0.024027,
     "end_time": "2024-12-12T12:15:24.417929",
     "exception": false,
     "start_time": "2024-12-12T12:15:24.393902",
     "status": "completed"
    },
    "tags": []
   },
   "outputs": [
    {
     "data": {
      "text/plain": [
       "13"
      ]
     },
     "execution_count": 18,
     "metadata": {},
     "output_type": "execute_result"
    }
   ],
   "source": [
    "# Minimum age from dataset\n",
    "\n",
    "data.Age.min()"
   ]
  },
  {
   "cell_type": "code",
   "execution_count": 19,
   "id": "013069b9",
   "metadata": {
    "execution": {
     "iopub.execute_input": "2024-12-12T12:15:24.447181Z",
     "iopub.status.busy": "2024-12-12T12:15:24.446836Z",
     "iopub.status.idle": "2024-12-12T12:15:24.455989Z",
     "shell.execute_reply": "2024-12-12T12:15:24.454919Z"
    },
    "executionInfo": {
     "elapsed": 38,
     "status": "ok",
     "timestamp": 1733867911121,
     "user": {
      "displayName": "Paul Jenom",
      "userId": "01111414441425046796"
     },
     "user_tz": -60
    },
    "id": "wZNlPBQy1-0l",
    "outputId": "b32a0bce-7b7d-4e2d-a6ea-d95ae55ab533",
    "papermill": {
     "duration": 0.0263,
     "end_time": "2024-12-12T12:15:24.458081",
     "exception": false,
     "start_time": "2024-12-12T12:15:24.431781",
     "status": "completed"
    },
    "tags": []
   },
   "outputs": [
    {
     "data": {
      "text/plain": [
       "0    38\n",
       "Name: Age, dtype: int64"
      ]
     },
     "execution_count": 19,
     "metadata": {},
     "output_type": "execute_result"
    }
   ],
   "source": [
    "# Most occuring age\n",
    "\n",
    "data.Age.mode()"
   ]
  },
  {
   "cell_type": "code",
   "execution_count": 20,
   "id": "17c28aee",
   "metadata": {
    "execution": {
     "iopub.execute_input": "2024-12-12T12:15:24.487389Z",
     "iopub.status.busy": "2024-12-12T12:15:24.487021Z",
     "iopub.status.idle": "2024-12-12T12:15:24.495052Z",
     "shell.execute_reply": "2024-12-12T12:15:24.493975Z"
    },
    "executionInfo": {
     "elapsed": 37,
     "status": "ok",
     "timestamp": 1733867911121,
     "user": {
      "displayName": "Paul Jenom",
      "userId": "01111414441425046796"
     },
     "user_tz": -60
    },
    "id": "VeakxQsu2PRr",
    "outputId": "524c177e-95aa-4aa4-baae-0e121ab297de",
    "papermill": {
     "duration": 0.025248,
     "end_time": "2024-12-12T12:15:24.497183",
     "exception": false,
     "start_time": "2024-12-12T12:15:24.471935",
     "status": "completed"
    },
    "tags": []
   },
   "outputs": [
    {
     "data": {
      "text/plain": [
       "52.0"
      ]
     },
     "execution_count": 20,
     "metadata": {},
     "output_type": "execute_result"
    }
   ],
   "source": [
    "# Median of Age\n",
    "\n",
    "data.Age.median()"
   ]
  },
  {
   "cell_type": "code",
   "execution_count": 21,
   "id": "45901854",
   "metadata": {
    "execution": {
     "iopub.execute_input": "2024-12-12T12:15:24.526851Z",
     "iopub.status.busy": "2024-12-12T12:15:24.526441Z",
     "iopub.status.idle": "2024-12-12T12:15:24.534195Z",
     "shell.execute_reply": "2024-12-12T12:15:24.533159Z"
    },
    "executionInfo": {
     "elapsed": 33,
     "status": "ok",
     "timestamp": 1733867911121,
     "user": {
      "displayName": "Paul Jenom",
      "userId": "01111414441425046796"
     },
     "user_tz": -60
    },
    "id": "pbJ5nqmX_v8V",
    "outputId": "3625587a-5bbd-4a9b-d34f-6a9a582bbe6e",
    "papermill": {
     "duration": 0.025119,
     "end_time": "2024-12-12T12:15:24.536371",
     "exception": false,
     "start_time": "2024-12-12T12:15:24.511252",
     "status": "completed"
    },
    "tags": []
   },
   "outputs": [
    {
     "data": {
      "text/plain": [
       "Timestamp('2019-05-08 00:00:00')"
      ]
     },
     "execution_count": 21,
     "metadata": {},
     "output_type": "execute_result"
    }
   ],
   "source": [
    "# Earliest Date of Admission\n",
    "\n",
    "data['Date of Admission'].min()"
   ]
  },
  {
   "cell_type": "code",
   "execution_count": 22,
   "id": "7e283b00",
   "metadata": {
    "execution": {
     "iopub.execute_input": "2024-12-12T12:15:24.566762Z",
     "iopub.status.busy": "2024-12-12T12:15:24.566343Z",
     "iopub.status.idle": "2024-12-12T12:15:24.573635Z",
     "shell.execute_reply": "2024-12-12T12:15:24.572631Z"
    },
    "executionInfo": {
     "elapsed": 32,
     "status": "ok",
     "timestamp": 1733867911122,
     "user": {
      "displayName": "Paul Jenom",
      "userId": "01111414441425046796"
     },
     "user_tz": -60
    },
    "id": "fH4PZ8uTAF0T",
    "outputId": "bdc600fe-ea6a-497f-af30-b0ecd489b373",
    "papermill": {
     "duration": 0.024965,
     "end_time": "2024-12-12T12:15:24.575661",
     "exception": false,
     "start_time": "2024-12-12T12:15:24.550696",
     "status": "completed"
    },
    "tags": []
   },
   "outputs": [
    {
     "data": {
      "text/plain": [
       "Timestamp('2024-05-07 00:00:00')"
      ]
     },
     "execution_count": 22,
     "metadata": {},
     "output_type": "execute_result"
    }
   ],
   "source": [
    "# Most recent Date of Admission\n",
    "\n",
    "data['Date of Admission'].max()"
   ]
  },
  {
   "cell_type": "markdown",
   "id": "955cff41",
   "metadata": {
    "id": "3g_OnYoU0qRv",
    "papermill": {
     "duration": 0.013688,
     "end_time": "2024-12-12T12:15:24.603456",
     "exception": false,
     "start_time": "2024-12-12T12:15:24.589768",
     "status": "completed"
    },
    "tags": []
   },
   "source": [
    "# QUESTION 1. Which Age group of people visit Hospitals the most"
   ]
  },
  {
   "cell_type": "code",
   "execution_count": 23,
   "id": "5b78989c",
   "metadata": {
    "execution": {
     "iopub.execute_input": "2024-12-12T12:15:24.633117Z",
     "iopub.status.busy": "2024-12-12T12:15:24.632710Z",
     "iopub.status.idle": "2024-12-12T12:15:24.637878Z",
     "shell.execute_reply": "2024-12-12T12:15:24.636826Z"
    },
    "executionInfo": {
     "elapsed": 28,
     "status": "ok",
     "timestamp": 1733867911122,
     "user": {
      "displayName": "Paul Jenom",
      "userId": "01111414441425046796"
     },
     "user_tz": -60
    },
    "id": "SPYPS_W3yS-j",
    "papermill": {
     "duration": 0.022499,
     "end_time": "2024-12-12T12:15:24.639984",
     "exception": false,
     "start_time": "2024-12-12T12:15:24.617485",
     "status": "completed"
    },
    "tags": []
   },
   "outputs": [],
   "source": [
    "# Grouping the Age column on the basis of 18 to 25, 26 to 40, 40 to 65 and 66 to 100\n",
    "\n",
    "df = pd.DataFrame(data)"
   ]
  },
  {
   "cell_type": "code",
   "execution_count": 24,
   "id": "1461cb6a",
   "metadata": {
    "execution": {
     "iopub.execute_input": "2024-12-12T12:15:24.669910Z",
     "iopub.status.busy": "2024-12-12T12:15:24.669492Z",
     "iopub.status.idle": "2024-12-12T12:15:24.674682Z",
     "shell.execute_reply": "2024-12-12T12:15:24.673452Z"
    },
    "executionInfo": {
     "elapsed": 27,
     "status": "ok",
     "timestamp": 1733867911122,
     "user": {
      "displayName": "Paul Jenom",
      "userId": "01111414441425046796"
     },
     "user_tz": -60
    },
    "id": "eOzEXEWJzEtY",
    "papermill": {
     "duration": 0.022797,
     "end_time": "2024-12-12T12:15:24.676976",
     "exception": false,
     "start_time": "2024-12-12T12:15:24.654179",
     "status": "completed"
    },
    "tags": []
   },
   "outputs": [],
   "source": [
    "# Define age bins and labels\n",
    "\n",
    "bins = [18, 25, 40, 65, 100]\n",
    "\n",
    "labels = ['18-25', '26-40', '41-65', '66-100']"
   ]
  },
  {
   "cell_type": "code",
   "execution_count": 25,
   "id": "1a9c546b",
   "metadata": {
    "execution": {
     "iopub.execute_input": "2024-12-12T12:15:24.707096Z",
     "iopub.status.busy": "2024-12-12T12:15:24.706722Z",
     "iopub.status.idle": "2024-12-12T12:15:24.718936Z",
     "shell.execute_reply": "2024-12-12T12:15:24.717873Z"
    },
    "executionInfo": {
     "elapsed": 26,
     "status": "ok",
     "timestamp": 1733867911122,
     "user": {
      "displayName": "Paul Jenom",
      "userId": "01111414441425046796"
     },
     "user_tz": -60
    },
    "id": "0cuiZUdQzn5e",
    "papermill": {
     "duration": 0.030179,
     "end_time": "2024-12-12T12:15:24.721272",
     "exception": false,
     "start_time": "2024-12-12T12:15:24.691093",
     "status": "completed"
    },
    "tags": []
   },
   "outputs": [],
   "source": [
    "# Group ages into bins\n",
    "\n",
    "df['Age_Group'] = pd.cut(df['Age'], bins=bins, labels=labels, right=True, include_lowest=False)"
   ]
  },
  {
   "cell_type": "code",
   "execution_count": 26,
   "id": "fc98608a",
   "metadata": {
    "execution": {
     "iopub.execute_input": "2024-12-12T12:15:24.751602Z",
     "iopub.status.busy": "2024-12-12T12:15:24.751180Z",
     "iopub.status.idle": "2024-12-12T12:15:24.774287Z",
     "shell.execute_reply": "2024-12-12T12:15:24.773109Z"
    },
    "executionInfo": {
     "elapsed": 26,
     "status": "ok",
     "timestamp": 1733867911123,
     "user": {
      "displayName": "Paul Jenom",
      "userId": "01111414441425046796"
     },
     "user_tz": -60
    },
    "id": "YOqeqnZuzy46",
    "outputId": "d05d105f-90fe-470a-aa5a-b73e29f1512d",
    "papermill": {
     "duration": 0.040793,
     "end_time": "2024-12-12T12:15:24.776376",
     "exception": false,
     "start_time": "2024-12-12T12:15:24.735583",
     "status": "completed"
    },
    "tags": []
   },
   "outputs": [
    {
     "data": {
      "text/html": [
       "<div>\n",
       "<style scoped>\n",
       "    .dataframe tbody tr th:only-of-type {\n",
       "        vertical-align: middle;\n",
       "    }\n",
       "\n",
       "    .dataframe tbody tr th {\n",
       "        vertical-align: top;\n",
       "    }\n",
       "\n",
       "    .dataframe thead th {\n",
       "        text-align: right;\n",
       "    }\n",
       "</style>\n",
       "<table border=\"1\" class=\"dataframe\">\n",
       "  <thead>\n",
       "    <tr style=\"text-align: right;\">\n",
       "      <th></th>\n",
       "      <th>Name</th>\n",
       "      <th>Age</th>\n",
       "      <th>Gender</th>\n",
       "      <th>Blood Type</th>\n",
       "      <th>Medical Condition</th>\n",
       "      <th>Date of Admission</th>\n",
       "      <th>Doctor</th>\n",
       "      <th>Hospital</th>\n",
       "      <th>Insurance Provider</th>\n",
       "      <th>Billing Amount</th>\n",
       "      <th>Room Number</th>\n",
       "      <th>Admission Type</th>\n",
       "      <th>Discharge Date</th>\n",
       "      <th>Medication</th>\n",
       "      <th>Test Results</th>\n",
       "      <th>Age_Group</th>\n",
       "    </tr>\n",
       "  </thead>\n",
       "  <tbody>\n",
       "    <tr>\n",
       "      <th>0</th>\n",
       "      <td>Bobby JacksOn</td>\n",
       "      <td>30</td>\n",
       "      <td>Male</td>\n",
       "      <td>B-</td>\n",
       "      <td>Cancer</td>\n",
       "      <td>2024-01-31</td>\n",
       "      <td>Matthew Smith</td>\n",
       "      <td>Sons and Miller</td>\n",
       "      <td>Blue Cross</td>\n",
       "      <td>18856.281306</td>\n",
       "      <td>328</td>\n",
       "      <td>Urgent</td>\n",
       "      <td>2024-02-02</td>\n",
       "      <td>Paracetamol</td>\n",
       "      <td>Normal</td>\n",
       "      <td>26-40</td>\n",
       "    </tr>\n",
       "    <tr>\n",
       "      <th>1</th>\n",
       "      <td>LesLie TErRy</td>\n",
       "      <td>62</td>\n",
       "      <td>Male</td>\n",
       "      <td>A+</td>\n",
       "      <td>Obesity</td>\n",
       "      <td>2019-08-20</td>\n",
       "      <td>Samantha Davies</td>\n",
       "      <td>Kim Inc</td>\n",
       "      <td>Medicare</td>\n",
       "      <td>33643.327287</td>\n",
       "      <td>265</td>\n",
       "      <td>Emergency</td>\n",
       "      <td>2019-08-26</td>\n",
       "      <td>Ibuprofen</td>\n",
       "      <td>Inconclusive</td>\n",
       "      <td>41-65</td>\n",
       "    </tr>\n",
       "    <tr>\n",
       "      <th>2</th>\n",
       "      <td>DaNnY sMitH</td>\n",
       "      <td>76</td>\n",
       "      <td>Female</td>\n",
       "      <td>A-</td>\n",
       "      <td>Obesity</td>\n",
       "      <td>2022-09-22</td>\n",
       "      <td>Tiffany Mitchell</td>\n",
       "      <td>Cook PLC</td>\n",
       "      <td>Aetna</td>\n",
       "      <td>27955.096079</td>\n",
       "      <td>205</td>\n",
       "      <td>Emergency</td>\n",
       "      <td>2022-10-07</td>\n",
       "      <td>Aspirin</td>\n",
       "      <td>Normal</td>\n",
       "      <td>66-100</td>\n",
       "    </tr>\n",
       "    <tr>\n",
       "      <th>3</th>\n",
       "      <td>andrEw waTtS</td>\n",
       "      <td>28</td>\n",
       "      <td>Female</td>\n",
       "      <td>O+</td>\n",
       "      <td>Diabetes</td>\n",
       "      <td>2020-11-18</td>\n",
       "      <td>Kevin Wells</td>\n",
       "      <td>Hernandez Rogers and Vang,</td>\n",
       "      <td>Medicare</td>\n",
       "      <td>37909.782410</td>\n",
       "      <td>450</td>\n",
       "      <td>Elective</td>\n",
       "      <td>2020-12-18</td>\n",
       "      <td>Ibuprofen</td>\n",
       "      <td>Abnormal</td>\n",
       "      <td>26-40</td>\n",
       "    </tr>\n",
       "    <tr>\n",
       "      <th>4</th>\n",
       "      <td>adrIENNE bEll</td>\n",
       "      <td>43</td>\n",
       "      <td>Female</td>\n",
       "      <td>AB+</td>\n",
       "      <td>Cancer</td>\n",
       "      <td>2022-09-19</td>\n",
       "      <td>Kathleen Hanna</td>\n",
       "      <td>White-White</td>\n",
       "      <td>Aetna</td>\n",
       "      <td>14238.317814</td>\n",
       "      <td>458</td>\n",
       "      <td>Urgent</td>\n",
       "      <td>2022-10-09</td>\n",
       "      <td>Penicillin</td>\n",
       "      <td>Abnormal</td>\n",
       "      <td>41-65</td>\n",
       "    </tr>\n",
       "    <tr>\n",
       "      <th>...</th>\n",
       "      <td>...</td>\n",
       "      <td>...</td>\n",
       "      <td>...</td>\n",
       "      <td>...</td>\n",
       "      <td>...</td>\n",
       "      <td>...</td>\n",
       "      <td>...</td>\n",
       "      <td>...</td>\n",
       "      <td>...</td>\n",
       "      <td>...</td>\n",
       "      <td>...</td>\n",
       "      <td>...</td>\n",
       "      <td>...</td>\n",
       "      <td>...</td>\n",
       "      <td>...</td>\n",
       "      <td>...</td>\n",
       "    </tr>\n",
       "    <tr>\n",
       "      <th>55495</th>\n",
       "      <td>eLIZABeTH jaCkSOn</td>\n",
       "      <td>42</td>\n",
       "      <td>Female</td>\n",
       "      <td>O+</td>\n",
       "      <td>Asthma</td>\n",
       "      <td>2020-08-16</td>\n",
       "      <td>Joshua Jarvis</td>\n",
       "      <td>Jones-Thompson</td>\n",
       "      <td>Blue Cross</td>\n",
       "      <td>2650.714952</td>\n",
       "      <td>417</td>\n",
       "      <td>Elective</td>\n",
       "      <td>2020-09-15</td>\n",
       "      <td>Penicillin</td>\n",
       "      <td>Abnormal</td>\n",
       "      <td>41-65</td>\n",
       "    </tr>\n",
       "    <tr>\n",
       "      <th>55496</th>\n",
       "      <td>KYle pEREz</td>\n",
       "      <td>61</td>\n",
       "      <td>Female</td>\n",
       "      <td>AB-</td>\n",
       "      <td>Obesity</td>\n",
       "      <td>2020-01-23</td>\n",
       "      <td>Taylor Sullivan</td>\n",
       "      <td>Tucker-Moyer</td>\n",
       "      <td>Cigna</td>\n",
       "      <td>31457.797307</td>\n",
       "      <td>316</td>\n",
       "      <td>Elective</td>\n",
       "      <td>2020-02-01</td>\n",
       "      <td>Aspirin</td>\n",
       "      <td>Normal</td>\n",
       "      <td>41-65</td>\n",
       "    </tr>\n",
       "    <tr>\n",
       "      <th>55497</th>\n",
       "      <td>HEATher WaNG</td>\n",
       "      <td>38</td>\n",
       "      <td>Female</td>\n",
       "      <td>B+</td>\n",
       "      <td>Hypertension</td>\n",
       "      <td>2020-07-13</td>\n",
       "      <td>Joe Jacobs DVM</td>\n",
       "      <td>and Mahoney Johnson Vasquez,</td>\n",
       "      <td>UnitedHealthcare</td>\n",
       "      <td>27620.764717</td>\n",
       "      <td>347</td>\n",
       "      <td>Urgent</td>\n",
       "      <td>2020-08-10</td>\n",
       "      <td>Ibuprofen</td>\n",
       "      <td>Abnormal</td>\n",
       "      <td>26-40</td>\n",
       "    </tr>\n",
       "    <tr>\n",
       "      <th>55498</th>\n",
       "      <td>JENniFER JOneS</td>\n",
       "      <td>43</td>\n",
       "      <td>Male</td>\n",
       "      <td>O-</td>\n",
       "      <td>Arthritis</td>\n",
       "      <td>2019-05-25</td>\n",
       "      <td>Kimberly Curry</td>\n",
       "      <td>Jackson Todd and Castro,</td>\n",
       "      <td>Medicare</td>\n",
       "      <td>32451.092358</td>\n",
       "      <td>321</td>\n",
       "      <td>Elective</td>\n",
       "      <td>2019-05-31</td>\n",
       "      <td>Ibuprofen</td>\n",
       "      <td>Abnormal</td>\n",
       "      <td>41-65</td>\n",
       "    </tr>\n",
       "    <tr>\n",
       "      <th>55499</th>\n",
       "      <td>jAMES GARCiA</td>\n",
       "      <td>53</td>\n",
       "      <td>Female</td>\n",
       "      <td>O+</td>\n",
       "      <td>Arthritis</td>\n",
       "      <td>2024-04-02</td>\n",
       "      <td>Dennis Warren</td>\n",
       "      <td>Henry Sons and</td>\n",
       "      <td>Aetna</td>\n",
       "      <td>4010.134172</td>\n",
       "      <td>448</td>\n",
       "      <td>Urgent</td>\n",
       "      <td>2024-04-29</td>\n",
       "      <td>Ibuprofen</td>\n",
       "      <td>Abnormal</td>\n",
       "      <td>41-65</td>\n",
       "    </tr>\n",
       "  </tbody>\n",
       "</table>\n",
       "<p>55500 rows × 16 columns</p>\n",
       "</div>"
      ],
      "text/plain": [
       "                    Name  Age  Gender Blood Type Medical Condition  \\\n",
       "0          Bobby JacksOn   30    Male         B-            Cancer   \n",
       "1           LesLie TErRy   62    Male         A+           Obesity   \n",
       "2            DaNnY sMitH   76  Female         A-           Obesity   \n",
       "3           andrEw waTtS   28  Female         O+          Diabetes   \n",
       "4          adrIENNE bEll   43  Female        AB+            Cancer   \n",
       "...                  ...  ...     ...        ...               ...   \n",
       "55495  eLIZABeTH jaCkSOn   42  Female         O+            Asthma   \n",
       "55496         KYle pEREz   61  Female        AB-           Obesity   \n",
       "55497       HEATher WaNG   38  Female         B+      Hypertension   \n",
       "55498     JENniFER JOneS   43    Male         O-         Arthritis   \n",
       "55499       jAMES GARCiA   53  Female         O+         Arthritis   \n",
       "\n",
       "      Date of Admission            Doctor                      Hospital  \\\n",
       "0            2024-01-31     Matthew Smith               Sons and Miller   \n",
       "1            2019-08-20   Samantha Davies                       Kim Inc   \n",
       "2            2022-09-22  Tiffany Mitchell                      Cook PLC   \n",
       "3            2020-11-18       Kevin Wells    Hernandez Rogers and Vang,   \n",
       "4            2022-09-19    Kathleen Hanna                   White-White   \n",
       "...                 ...               ...                           ...   \n",
       "55495        2020-08-16     Joshua Jarvis                Jones-Thompson   \n",
       "55496        2020-01-23   Taylor Sullivan                  Tucker-Moyer   \n",
       "55497        2020-07-13    Joe Jacobs DVM  and Mahoney Johnson Vasquez,   \n",
       "55498        2019-05-25    Kimberly Curry      Jackson Todd and Castro,   \n",
       "55499        2024-04-02     Dennis Warren                Henry Sons and   \n",
       "\n",
       "      Insurance Provider  Billing Amount  Room Number Admission Type  \\\n",
       "0             Blue Cross    18856.281306          328         Urgent   \n",
       "1               Medicare    33643.327287          265      Emergency   \n",
       "2                  Aetna    27955.096079          205      Emergency   \n",
       "3               Medicare    37909.782410          450       Elective   \n",
       "4                  Aetna    14238.317814          458         Urgent   \n",
       "...                  ...             ...          ...            ...   \n",
       "55495         Blue Cross     2650.714952          417       Elective   \n",
       "55496              Cigna    31457.797307          316       Elective   \n",
       "55497   UnitedHealthcare    27620.764717          347         Urgent   \n",
       "55498           Medicare    32451.092358          321       Elective   \n",
       "55499              Aetna     4010.134172          448         Urgent   \n",
       "\n",
       "      Discharge Date   Medication  Test Results Age_Group  \n",
       "0         2024-02-02  Paracetamol        Normal     26-40  \n",
       "1         2019-08-26    Ibuprofen  Inconclusive     41-65  \n",
       "2         2022-10-07      Aspirin        Normal    66-100  \n",
       "3         2020-12-18    Ibuprofen      Abnormal     26-40  \n",
       "4         2022-10-09   Penicillin      Abnormal     41-65  \n",
       "...              ...          ...           ...       ...  \n",
       "55495     2020-09-15   Penicillin      Abnormal     41-65  \n",
       "55496     2020-02-01      Aspirin        Normal     41-65  \n",
       "55497     2020-08-10    Ibuprofen      Abnormal     26-40  \n",
       "55498     2019-05-31    Ibuprofen      Abnormal     41-65  \n",
       "55499     2024-04-29    Ibuprofen      Abnormal     41-65  \n",
       "\n",
       "[55500 rows x 16 columns]"
      ]
     },
     "execution_count": 26,
     "metadata": {},
     "output_type": "execute_result"
    }
   ],
   "source": [
    "df"
   ]
  },
  {
   "cell_type": "code",
   "execution_count": 27,
   "id": "32516a93",
   "metadata": {
    "execution": {
     "iopub.execute_input": "2024-12-12T12:15:24.807914Z",
     "iopub.status.busy": "2024-12-12T12:15:24.807492Z",
     "iopub.status.idle": "2024-12-12T12:15:25.032404Z",
     "shell.execute_reply": "2024-12-12T12:15:25.031243Z"
    },
    "executionInfo": {
     "elapsed": 634,
     "status": "ok",
     "timestamp": 1733867911732,
     "user": {
      "displayName": "Paul Jenom",
      "userId": "01111414441425046796"
     },
     "user_tz": -60
    },
    "id": "gDmOSbaXz6JI",
    "outputId": "1fde3415-48ae-4935-beda-7b0beed6d3e5",
    "papermill": {
     "duration": 0.243753,
     "end_time": "2024-12-12T12:15:25.034757",
     "exception": false,
     "start_time": "2024-12-12T12:15:24.791004",
     "status": "completed"
    },
    "tags": []
   },
   "outputs": [
    {
     "data": {
      "text/plain": [
       "<BarContainer object of 4 artists>"
      ]
     },
     "execution_count": 27,
     "metadata": {},
     "output_type": "execute_result"
    },
    {
     "data": {
      "image/png": "[encoded data removed]",
      "text/plain": [
       "<Figure size 640x480 with 1 Axes>"
      ]
     },
     "metadata": {},
     "output_type": "display_data"
    }
   ],
   "source": [
    "# Creating a bar chart based on the age group\n",
    "\n",
    "plt.bar(df['Age_Group'].value_counts().index, df['Age_Group'].value_counts().values)"
   ]
  },
  {
   "cell_type": "markdown",
   "id": "23cd3322",
   "metadata": {
    "id": "rhr6gDhO03oQ",
    "papermill": {
     "duration": 0.014587,
     "end_time": "2024-12-12T12:15:25.064413",
     "exception": false,
     "start_time": "2024-12-12T12:15:25.049826",
     "status": "completed"
    },
    "tags": []
   },
   "source": [
    "# QUESTION 2. Which medical condition affects each of the Age categories the most"
   ]
  },
  {
   "cell_type": "code",
   "execution_count": 28,
   "id": "389b5549",
   "metadata": {
    "execution": {
     "iopub.execute_input": "2024-12-12T12:15:25.096425Z",
     "iopub.status.busy": "2024-12-12T12:15:25.096048Z",
     "iopub.status.idle": "2024-12-12T12:15:25.118460Z",
     "shell.execute_reply": "2024-12-12T12:15:25.117270Z"
    },
    "executionInfo": {
     "elapsed": 22,
     "status": "ok",
     "timestamp": 1733867911732,
     "user": {
      "displayName": "Paul Jenom",
      "userId": "01111414441425046796"
     },
     "user_tz": -60
    },
    "id": "olpryysB1GJn",
    "outputId": "0c97e573-b598-4feb-bf17-44f492c8dab9",
    "papermill": {
     "duration": 0.041171,
     "end_time": "2024-12-12T12:15:25.120907",
     "exception": false,
     "start_time": "2024-12-12T12:15:25.079736",
     "status": "completed"
    },
    "tags": []
   },
   "outputs": [
    {
     "name": "stderr",
     "output_type": "stream",
     "text": [
      "/tmp/ipykernel_17/874350951.py:3: FutureWarning: The default of observed=False is deprecated and will be changed to True in a future version of pandas. Pass observed=False to retain current behavior or observed=True to adopt the future default and silence this warning.\n",
      "  df.groupby('Age_Group')['Medical Condition'].value_counts()\n"
     ]
    },
    {
     "data": {
      "text/plain": [
       "Age_Group  Medical Condition\n",
       "18-25      Obesity               955\n",
       "           Diabetes              951\n",
       "           Cancer                940\n",
       "           Hypertension          940\n",
       "           Asthma                937\n",
       "           Arthritis             934\n",
       "26-40      Arthritis            2049\n",
       "           Cancer               2026\n",
       "           Asthma               2017\n",
       "           Obesity              2000\n",
       "           Diabetes             1995\n",
       "           Hypertension         1992\n",
       "41-65      Diabetes             3522\n",
       "           Obesity              3504\n",
       "           Arthritis            3427\n",
       "           Hypertension         3426\n",
       "           Cancer               3405\n",
       "           Asthma               3342\n",
       "66-100     Arthritis            2748\n",
       "           Hypertension         2744\n",
       "           Asthma               2739\n",
       "           Cancer               2710\n",
       "           Diabetes             2696\n",
       "           Obesity              2613\n",
       "Name: count, dtype: int64"
      ]
     },
     "execution_count": 28,
     "metadata": {},
     "output_type": "execute_result"
    }
   ],
   "source": [
    "# Which medical condition affects each of the age categories the most\n",
    "\n",
    "df.groupby('Age_Group')['Medical Condition'].value_counts()"
   ]
  },
  {
   "cell_type": "markdown",
   "id": "b48cae50",
   "metadata": {
    "id": "uuyyuPer6nCu",
    "papermill": {
     "duration": 0.017366,
     "end_time": "2024-12-12T12:15:25.153751",
     "exception": false,
     "start_time": "2024-12-12T12:15:25.136385",
     "status": "completed"
    },
    "tags": []
   },
   "source": []
  },
  {
   "cell_type": "code",
   "execution_count": 29,
   "id": "c46a48c2",
   "metadata": {
    "execution": {
     "iopub.execute_input": "2024-12-12T12:15:25.185713Z",
     "iopub.status.busy": "2024-12-12T12:15:25.185289Z",
     "iopub.status.idle": "2024-12-12T12:15:25.205895Z",
     "shell.execute_reply": "2024-12-12T12:15:25.204883Z"
    },
    "executionInfo": {
     "elapsed": 19,
     "status": "ok",
     "timestamp": 1733867911732,
     "user": {
      "displayName": "Paul Jenom",
      "userId": "01111414441425046796"
     },
     "user_tz": -60
    },
    "id": "UIYAy9oO9idO",
    "outputId": "0d6d4eb1-3ec3-4987-e505-e9f915516525",
    "papermill": {
     "duration": 0.040374,
     "end_time": "2024-12-12T12:15:25.209251",
     "exception": false,
     "start_time": "2024-12-12T12:15:25.168877",
     "status": "completed"
    },
    "tags": []
   },
   "outputs": [
    {
     "name": "stdout",
     "output_type": "stream",
     "text": [
      "Age_Group           \n",
      "18-25      Obesity       955\n",
      "26-40      Arthritis    2049\n",
      "41-65      Diabetes     3522\n",
      "66-100     Arthritis    2748\n",
      "Name: Medical Condition, dtype: int64\n"
     ]
    },
    {
     "name": "stderr",
     "output_type": "stream",
     "text": [
      "/tmp/ipykernel_17/1929670624.py:5: FutureWarning: The default of observed=False is deprecated and will be changed to True in a future version of pandas. Pass observed=False to retain current behavior or observed=True to adopt the future default and silence this warning.\n",
      "  df.groupby('Age_Group')['Medical Condition']\n"
     ]
    }
   ],
   "source": [
    "# Subsetting to show the highest occuring illness in each age category\n",
    "\n",
    "most_frequent_conditions = (\n",
    "\n",
    "    df.groupby('Age_Group')['Medical Condition']\n",
    "\n",
    "    .apply(lambda x: x.value_counts().nlargest(1))\n",
    "\n",
    ")\n",
    "\n",
    "\n",
    "\n",
    "print(most_frequent_conditions)"
   ]
  },
  {
   "cell_type": "markdown",
   "id": "c01b9865",
   "metadata": {
    "id": "P62iFWKV_MM5",
    "papermill": {
     "duration": 0.015587,
     "end_time": "2024-12-12T12:15:25.240701",
     "exception": false,
     "start_time": "2024-12-12T12:15:25.225114",
     "status": "completed"
    },
    "tags": []
   },
   "source": [
    "## QUESTION 3. Which Insurance company caters for the most patients"
   ]
  },
  {
   "cell_type": "code",
   "execution_count": 30,
   "id": "741f24fa",
   "metadata": {
    "execution": {
     "iopub.execute_input": "2024-12-12T12:15:25.273822Z",
     "iopub.status.busy": "2024-12-12T12:15:25.273376Z",
     "iopub.status.idle": "2024-12-12T12:15:25.284772Z",
     "shell.execute_reply": "2024-12-12T12:15:25.283670Z"
    },
    "executionInfo": {
     "elapsed": 487,
     "status": "ok",
     "timestamp": 1733868103623,
     "user": {
      "displayName": "Paul Jenom",
      "userId": "01111414441425046796"
     },
     "user_tz": -60
    },
    "id": "bN968-oJ_ebF",
    "outputId": "96acfeb1-d786-4a83-d41d-15acb09fb806",
    "papermill": {
     "duration": 0.030145,
     "end_time": "2024-12-12T12:15:25.286671",
     "exception": false,
     "start_time": "2024-12-12T12:15:25.256526",
     "status": "completed"
    },
    "tags": []
   },
   "outputs": [
    {
     "data": {
      "text/plain": [
       "Insurance Provider\n",
       "Cigna               11249\n",
       "Medicare            11154\n",
       "UnitedHealthcare    11125\n",
       "Blue Cross          11059\n",
       "Aetna               10913\n",
       "Name: count, dtype: int64"
      ]
     },
     "execution_count": 30,
     "metadata": {},
     "output_type": "execute_result"
    }
   ],
   "source": [
    "# Each insurance company and how many patients they attended to\n",
    "\n",
    "df['Insurance Provider'].value_counts()"
   ]
  },
  {
   "cell_type": "code",
   "execution_count": 31,
   "id": "cd7f236a",
   "metadata": {
    "execution": {
     "iopub.execute_input": "2024-12-12T12:15:25.319250Z",
     "iopub.status.busy": "2024-12-12T12:15:25.318910Z",
     "iopub.status.idle": "2024-12-12T12:15:25.438163Z",
     "shell.execute_reply": "2024-12-12T12:15:25.437062Z"
    },
    "executionInfo": {
     "elapsed": 704,
     "status": "ok",
     "timestamp": 1733868101243,
     "user": {
      "displayName": "Paul Jenom",
      "userId": "01111414441425046796"
     },
     "user_tz": -60
    },
    "id": "IT6ijN2ADfe2",
    "outputId": "309945c8-848e-48b0-f024-83773d68fa23",
    "papermill": {
     "duration": 0.138883,
     "end_time": "2024-12-12T12:15:25.441200",
     "exception": false,
     "start_time": "2024-12-12T12:15:25.302317",
     "status": "completed"
    },
    "tags": []
   },
   "outputs": [
    {
     "data": {
      "image/png": "[encoded data removed]",
      "text/plain": [
       "<Figure size 640x480 with 1 Axes>"
      ]
     },
     "metadata": {},
     "output_type": "display_data"
    }
   ],
   "source": [
    "# A pie chart for each insurance company and how many patients they attended to\n",
    "\n",
    "plt.pie(df['Insurance Provider'].value_counts(), labels=df['Insurance Provider'].value_counts().index, autopct='%1.1f%%')\n",
    "\n",
    "plt.show()\n"
   ]
  },
  {
   "cell_type": "markdown",
   "id": "210e5a5e",
   "metadata": {
    "id": "sRzmKTyrEBp6",
    "papermill": {
     "duration": 0.016232,
     "end_time": "2024-12-12T12:15:25.474751",
     "exception": false,
     "start_time": "2024-12-12T12:15:25.458519",
     "status": "completed"
    },
    "tags": []
   },
   "source": [
    "## QUESTION 4. Which year has the highest number of admitted patients"
   ]
  },
  {
   "cell_type": "code",
   "execution_count": 32,
   "id": "e1e8963b",
   "metadata": {
    "execution": {
     "iopub.execute_input": "2024-12-12T12:15:25.509459Z",
     "iopub.status.busy": "2024-12-12T12:15:25.509079Z",
     "iopub.status.idle": "2024-12-12T12:15:25.520617Z",
     "shell.execute_reply": "2024-12-12T12:15:25.519731Z"
    },
    "executionInfo": {
     "elapsed": 330,
     "status": "ok",
     "timestamp": 1733868069695,
     "user": {
      "displayName": "Paul Jenom",
      "userId": "01111414441425046796"
     },
     "user_tz": -60
    },
    "id": "AnsnPTZwEFQB",
    "outputId": "05f217b7-7d02-459f-9c06-4f1823d57b80",
    "papermill": {
     "duration": 0.031423,
     "end_time": "2024-12-12T12:15:25.522932",
     "exception": false,
     "start_time": "2024-12-12T12:15:25.491509",
     "status": "completed"
    },
    "tags": []
   },
   "outputs": [
    {
     "data": {
      "text/plain": [
       "Date of Admission\n",
       "2020    11285\n",
       "2023    11026\n",
       "2022    11017\n",
       "2021    10931\n",
       "2019     7387\n",
       "2024     3854\n",
       "Name: count, dtype: int64"
      ]
     },
     "execution_count": 32,
     "metadata": {},
     "output_type": "execute_result"
    }
   ],
   "source": [
    "# Which year has the highest number of admitted patients\n",
    "\n",
    "year_count = df['Date of Admission'].dt.year.value_counts()\n",
    "\n",
    "year_count"
   ]
  },
  {
   "cell_type": "code",
   "execution_count": 33,
   "id": "662c85e7",
   "metadata": {
    "execution": {
     "iopub.execute_input": "2024-12-12T12:15:25.557019Z",
     "iopub.status.busy": "2024-12-12T12:15:25.556643Z",
     "iopub.status.idle": "2024-12-12T12:15:25.564368Z",
     "shell.execute_reply": "2024-12-12T12:15:25.563370Z"
    },
    "executionInfo": {
     "elapsed": 306,
     "status": "ok",
     "timestamp": 1733868073015,
     "user": {
      "displayName": "Paul Jenom",
      "userId": "01111414441425046796"
     },
     "user_tz": -60
    },
    "id": "nPWDY2A4HLu2",
    "outputId": "4ec80945-d535-45c3-d3ee-164cfe6fe9b5",
    "papermill": {
     "duration": 0.027153,
     "end_time": "2024-12-12T12:15:25.566424",
     "exception": false,
     "start_time": "2024-12-12T12:15:25.539271",
     "status": "completed"
    },
    "tags": []
   },
   "outputs": [
    {
     "data": {
      "text/plain": [
       "Date of Admission\n",
       "2019     7387\n",
       "2020    11285\n",
       "2021    10931\n",
       "2022    11017\n",
       "2023    11026\n",
       "2024     3854\n",
       "Name: count, dtype: int64"
      ]
     },
     "execution_count": 33,
     "metadata": {},
     "output_type": "execute_result"
    }
   ],
   "source": [
    "year_count = year_count.sort_index()\n",
    "\n",
    "year_count"
   ]
  },
  {
   "cell_type": "code",
   "execution_count": 34,
   "id": "f5761950",
   "metadata": {
    "execution": {
     "iopub.execute_input": "2024-12-12T12:15:25.600273Z",
     "iopub.status.busy": "2024-12-12T12:15:25.599889Z",
     "iopub.status.idle": "2024-12-12T12:15:25.806263Z",
     "shell.execute_reply": "2024-12-12T12:15:25.805205Z"
    },
    "executionInfo": {
     "elapsed": 2249,
     "status": "ok",
     "timestamp": 1733868078043,
     "user": {
      "displayName": "Paul Jenom",
      "userId": "01111414441425046796"
     },
     "user_tz": -60
    },
    "id": "742wQcGfEODv",
    "outputId": "3cf8c0c1-eb7b-4366-c6fb-0c4065ee1bd6",
    "papermill": {
     "duration": 0.225795,
     "end_time": "2024-12-12T12:15:25.808318",
     "exception": false,
     "start_time": "2024-12-12T12:15:25.582523",
     "status": "completed"
    },
    "tags": []
   },
   "outputs": [
    {
     "data": {
      "image/png": "[encoded data removed]",
      "text/plain": [
       "<Figure size 640x480 with 1 Axes>"
      ]
     },
     "metadata": {},
     "output_type": "display_data"
    }
   ],
   "source": [
    "# A line chart showing the number of admitted patients per year\n",
    "\n",
    "plt.plot(year_count, marker='o')\n",
    "\n",
    "plt.xlabel('Year')\n",
    "\n",
    "plt.ylabel('Number of Admitted Patients')\n",
    "\n",
    "plt.title('Number of Admitted Patients per Year')\n",
    "\n",
    "plt.xticks(rotation=90)\n",
    "\n",
    "plt.show()"
   ]
  },
  {
   "cell_type": "markdown",
   "id": "923f439e",
   "metadata": {
    "id": "XZ_DNkaMHogv",
    "papermill": {
     "duration": 0.016743,
     "end_time": "2024-12-12T12:15:25.841943",
     "exception": false,
     "start_time": "2024-12-12T12:15:25.825200",
     "status": "completed"
    },
    "tags": []
   },
   "source": [
    "## Question 5. Medical Condition that has the longest admission time"
   ]
  },
  {
   "cell_type": "code",
   "execution_count": 35,
   "id": "70283785",
   "metadata": {
    "execution": {
     "iopub.execute_input": "2024-12-12T12:15:25.876527Z",
     "iopub.status.busy": "2024-12-12T12:15:25.876160Z",
     "iopub.status.idle": "2024-12-12T12:15:25.887897Z",
     "shell.execute_reply": "2024-12-12T12:15:25.886872Z"
    },
    "executionInfo": {
     "elapsed": 432,
     "status": "ok",
     "timestamp": 1733868083194,
     "user": {
      "displayName": "Paul Jenom",
      "userId": "01111414441425046796"
     },
     "user_tz": -60
    },
    "id": "3HOxkQlMHyaL",
    "outputId": "e9d2365c-cf70-447b-a84a-7df152c7c1c5",
    "papermill": {
     "duration": 0.03152,
     "end_time": "2024-12-12T12:15:25.890016",
     "exception": false,
     "start_time": "2024-12-12T12:15:25.858496",
     "status": "completed"
    },
    "tags": []
   },
   "outputs": [
    {
     "data": {
      "text/plain": [
       "0         2\n",
       "1         6\n",
       "2        15\n",
       "3        30\n",
       "4        20\n",
       "         ..\n",
       "55495    30\n",
       "55496     9\n",
       "55497    28\n",
       "55498     6\n",
       "55499    27\n",
       "Name: Hospital Stay, Length: 55500, dtype: int64"
      ]
     },
     "execution_count": 35,
     "metadata": {},
     "output_type": "execute_result"
    }
   ],
   "source": [
    "# Calculating the time spent in hospital\n",
    "\n",
    "df['Hospital Stay'] = (df['Discharge Date'] - df['Date of Admission']).dt.days\n",
    "\n",
    "df['Hospital Stay']"
   ]
  },
  {
   "cell_type": "code",
   "execution_count": 36,
   "id": "1d4a22d1",
   "metadata": {
    "execution": {
     "iopub.execute_input": "2024-12-12T12:15:25.926770Z",
     "iopub.status.busy": "2024-12-12T12:15:25.925720Z",
     "iopub.status.idle": "2024-12-12T12:15:25.934671Z",
     "shell.execute_reply": "2024-12-12T12:15:25.933579Z"
    },
    "executionInfo": {
     "elapsed": 380,
     "status": "ok",
     "timestamp": 1733868086467,
     "user": {
      "displayName": "Paul Jenom",
      "userId": "01111414441425046796"
     },
     "user_tz": -60
    },
    "id": "STIPhrVRJMsr",
    "outputId": "94e428a9-d628-4464-a6bf-f7cd954c3dd9",
    "papermill": {
     "duration": 0.030621,
     "end_time": "2024-12-12T12:15:25.937615",
     "exception": false,
     "start_time": "2024-12-12T12:15:25.906994",
     "status": "completed"
    },
    "tags": []
   },
   "outputs": [
    {
     "data": {
      "text/plain": [
       "15.50900900900901"
      ]
     },
     "execution_count": 36,
     "metadata": {},
     "output_type": "execute_result"
    }
   ],
   "source": [
    "# Average hospital stay time for patients\n",
    "\n",
    "df['Hospital Stay'].mean()"
   ]
  },
  {
   "cell_type": "code",
   "execution_count": 37,
   "id": "49f8e3e9",
   "metadata": {
    "execution": {
     "iopub.execute_input": "2024-12-12T12:15:25.987250Z",
     "iopub.status.busy": "2024-12-12T12:15:25.985946Z",
     "iopub.status.idle": "2024-12-12T12:15:26.003438Z",
     "shell.execute_reply": "2024-12-12T12:15:26.001764Z"
    },
    "executionInfo": {
     "elapsed": 370,
     "status": "ok",
     "timestamp": 1733868089012,
     "user": {
      "displayName": "Paul Jenom",
      "userId": "01111414441425046796"
     },
     "user_tz": -60
    },
    "id": "DoFe7Y7FJBgx",
    "outputId": "b3bb82e2-3257-471f-d089-f6c0fd9983d0",
    "papermill": {
     "duration": 0.044569,
     "end_time": "2024-12-12T12:15:26.005962",
     "exception": false,
     "start_time": "2024-12-12T12:15:25.961393",
     "status": "completed"
    },
    "tags": []
   },
   "outputs": [
    {
     "data": {
      "text/plain": [
       "Medical Condition\n",
       "Arthritis       15.517404\n",
       "Asthma          15.696570\n",
       "Cancer          15.495827\n",
       "Diabetes        15.422936\n",
       "Hypertension    15.458626\n",
       "Obesity         15.464305\n",
       "Name: Hospital Stay, dtype: float64"
      ]
     },
     "execution_count": 37,
     "metadata": {},
     "output_type": "execute_result"
    }
   ],
   "source": [
    "# Average hospital stay time by Medical condition\n",
    "\n",
    "df.groupby('Medical Condition')['Hospital Stay'].mean()"
   ]
  },
  {
   "cell_type": "markdown",
   "id": "92e62e62",
   "metadata": {
    "id": "8UT5RbTLjW_J",
    "papermill": {
     "duration": 0.016624,
     "end_time": "2024-12-12T12:15:26.039618",
     "exception": false,
     "start_time": "2024-12-12T12:15:26.022994",
     "status": "completed"
    },
    "tags": []
   },
   "source": [
    "## Question 6. Which Medical condition is the most expensive"
   ]
  },
  {
   "cell_type": "code",
   "execution_count": 38,
   "id": "93ac2e99",
   "metadata": {
    "execution": {
     "iopub.execute_input": "2024-12-12T12:15:26.077086Z",
     "iopub.status.busy": "2024-12-12T12:15:26.076459Z",
     "iopub.status.idle": "2024-12-12T12:15:26.094893Z",
     "shell.execute_reply": "2024-12-12T12:15:26.093187Z"
    },
    "executionInfo": {
     "elapsed": 329,
     "status": "ok",
     "timestamp": 1733868092046,
     "user": {
      "displayName": "Paul Jenom",
      "userId": "01111414441425046796"
     },
     "user_tz": -60
    },
    "id": "kZr1wIkajeqD",
    "outputId": "e734f864-6e3f-4198-b744-b310ef70653a",
    "papermill": {
     "duration": 0.042061,
     "end_time": "2024-12-12T12:15:26.098436",
     "exception": false,
     "start_time": "2024-12-12T12:15:26.056375",
     "status": "completed"
    },
    "tags": []
   },
   "outputs": [
    {
     "data": {
      "text/plain": [
       "Medical Condition\n",
       "Arthritis       25497.327056\n",
       "Asthma          25635.249359\n",
       "Cancer          25161.792707\n",
       "Diabetes        25638.405577\n",
       "Hypertension    25497.095761\n",
       "Obesity         25805.971259\n",
       "Name: Billing Amount, dtype: float64"
      ]
     },
     "execution_count": 38,
     "metadata": {},
     "output_type": "execute_result"
    }
   ],
   "source": [
    "# Calculating which medical condtion is the most expensive based on billing amount\n",
    "\n",
    "df.groupby('Medical Condition')['Billing Amount'].mean()"
   ]
  },
  {
   "cell_type": "markdown",
   "id": "54a56ace",
   "metadata": {
    "id": "m4FRfjWAnrve",
    "papermill": {
     "duration": 0.029224,
     "end_time": "2024-12-12T12:15:26.163828",
     "exception": false,
     "start_time": "2024-12-12T12:15:26.134604",
     "status": "completed"
    },
    "tags": []
   },
   "source": [
    "## Question 7. What are the corresponding Admission type for each Medical condition category"
   ]
  },
  {
   "cell_type": "code",
   "execution_count": 39,
   "id": "c0dc9559",
   "metadata": {
    "execution": {
     "iopub.execute_input": "2024-12-12T12:15:26.221154Z",
     "iopub.status.busy": "2024-12-12T12:15:26.220268Z",
     "iopub.status.idle": "2024-12-12T12:15:26.238895Z",
     "shell.execute_reply": "2024-12-12T12:15:26.237847Z"
    },
    "executionInfo": {
     "elapsed": 399,
     "status": "ok",
     "timestamp": 1733868503670,
     "user": {
      "displayName": "Paul Jenom",
      "userId": "01111414441425046796"
     },
     "user_tz": -60
    },
    "id": "_mBb5byymLEI",
    "outputId": "fa1ba7e0-53f4-42d6-aa20-ecdb56afe323",
    "papermill": {
     "duration": 0.044981,
     "end_time": "2024-12-12T12:15:26.241194",
     "exception": false,
     "start_time": "2024-12-12T12:15:26.196213",
     "status": "completed"
    },
    "tags": []
   },
   "outputs": [
    {
     "data": {
      "text/plain": [
       "Medical Condition  Admission Type\n",
       "Arthritis          Urgent            3117\n",
       "                   Emergency         3108\n",
       "                   Elective          3083\n",
       "Asthma             Elective          3102\n",
       "                   Urgent            3081\n",
       "                   Emergency         3002\n",
       "Cancer             Elective          3148\n",
       "                   Urgent            3064\n",
       "                   Emergency         3015\n",
       "Diabetes           Urgent            3229\n",
       "                   Elective          3058\n",
       "                   Emergency         3017\n",
       "Hypertension       Elective          3221\n",
       "                   Urgent            3023\n",
       "                   Emergency         3001\n",
       "Obesity            Emergency         3126\n",
       "                   Urgent            3062\n",
       "                   Elective          3043\n",
       "Name: count, dtype: int64"
      ]
     },
     "execution_count": 39,
     "metadata": {},
     "output_type": "execute_result"
    }
   ],
   "source": [
    "# Each medical condition with its most frquent admission type\n",
    "\n",
    "df.groupby('Medical Condition')['Admission Type'].value_counts()"
   ]
  },
  {
   "cell_type": "markdown",
   "id": "586fa2eb",
   "metadata": {
    "id": "HeDKfCcPsyCC",
    "papermill": {
     "duration": 0.017013,
     "end_time": "2024-12-12T12:15:26.276056",
     "exception": false,
     "start_time": "2024-12-12T12:15:26.259043",
     "status": "completed"
    },
    "tags": []
   },
   "source": [
    "# Question 8. Most frequently used medication for each Medical condition category"
   ]
  },
  {
   "cell_type": "code",
   "execution_count": 40,
   "id": "ffb254d1",
   "metadata": {
    "execution": {
     "iopub.execute_input": "2024-12-12T12:15:26.332510Z",
     "iopub.status.busy": "2024-12-12T12:15:26.331747Z",
     "iopub.status.idle": "2024-12-12T12:15:26.344152Z",
     "shell.execute_reply": "2024-12-12T12:15:26.342945Z"
    },
    "executionInfo": {
     "elapsed": 367,
     "status": "ok",
     "timestamp": 1733870453997,
     "user": {
      "displayName": "Paul Jenom",
      "userId": "01111414441425046796"
     },
     "user_tz": -60
    },
    "id": "uEDOKSibtStY",
    "outputId": "202a44ce-a4cf-4e68-d0c5-5342fb5d120f",
    "papermill": {
     "duration": 0.043531,
     "end_time": "2024-12-12T12:15:26.346378",
     "exception": false,
     "start_time": "2024-12-12T12:15:26.302847",
     "status": "completed"
    },
    "tags": []
   },
   "outputs": [
    {
     "data": {
      "text/plain": [
       "Medication\n",
       "Lipitor        11140\n",
       "Ibuprofen      11127\n",
       "Aspirin        11094\n",
       "Paracetamol    11071\n",
       "Penicillin     11068\n",
       "Name: count, dtype: int64"
      ]
     },
     "execution_count": 40,
     "metadata": {},
     "output_type": "execute_result"
    }
   ],
   "source": [
    "# Most frequently used medication\n",
    "\n",
    "med = data.Medication.value_counts()\n",
    "\n",
    "med"
   ]
  },
  {
   "cell_type": "code",
   "execution_count": 41,
   "id": "36d56ad0",
   "metadata": {
    "execution": {
     "iopub.execute_input": "2024-12-12T12:15:26.385323Z",
     "iopub.status.busy": "2024-12-12T12:15:26.384959Z",
     "iopub.status.idle": "2024-12-12T12:15:26.404016Z",
     "shell.execute_reply": "2024-12-12T12:15:26.402939Z"
    },
    "executionInfo": {
     "elapsed": 354,
     "status": "ok",
     "timestamp": 1733870010039,
     "user": {
      "displayName": "Paul Jenom",
      "userId": "01111414441425046796"
     },
     "user_tz": -60
    },
    "id": "6xY6VtMstEVF",
    "outputId": "9886d76e-f3a7-46ae-95e2-333d45335d76",
    "papermill": {
     "duration": 0.040048,
     "end_time": "2024-12-12T12:15:26.406126",
     "exception": false,
     "start_time": "2024-12-12T12:15:26.366078",
     "status": "completed"
    },
    "tags": []
   },
   "outputs": [
    {
     "data": {
      "text/plain": [
       "Medical Condition  Medication \n",
       "Arthritis          Aspirin        1918\n",
       "                   Paracetamol    1877\n",
       "                   Penicillin     1866\n",
       "                   Lipitor        1825\n",
       "                   Ibuprofen      1822\n",
       "Asthma             Paracetamol    1888\n",
       "                   Penicillin     1845\n",
       "                   Ibuprofen      1827\n",
       "                   Lipitor        1823\n",
       "                   Aspirin        1802\n",
       "Cancer             Lipitor        1922\n",
       "                   Ibuprofen      1873\n",
       "                   Paracetamol    1853\n",
       "                   Penicillin     1793\n",
       "                   Aspirin        1786\n",
       "Diabetes           Lipitor        1893\n",
       "                   Penicillin     1881\n",
       "                   Ibuprofen      1861\n",
       "                   Aspirin        1858\n",
       "                   Paracetamol    1811\n",
       "Hypertension       Ibuprofen      1893\n",
       "                   Aspirin        1865\n",
       "                   Paracetamol    1849\n",
       "                   Lipitor        1848\n",
       "                   Penicillin     1790\n",
       "Obesity            Penicillin     1893\n",
       "                   Aspirin        1865\n",
       "                   Ibuprofen      1851\n",
       "                   Lipitor        1829\n",
       "                   Paracetamol    1793\n",
       "Name: count, dtype: int64"
      ]
     },
     "execution_count": 41,
     "metadata": {},
     "output_type": "execute_result"
    }
   ],
   "source": [
    "# Most frequently used medication for each medical condition\n",
    "\n",
    "df.groupby('Medical Condition')['Medication'].value_counts()"
   ]
  },
  {
   "cell_type": "markdown",
   "id": "d8994bdd",
   "metadata": {
    "papermill": {
     "duration": 0.017015,
     "end_time": "2024-12-12T12:15:26.440508",
     "exception": false,
     "start_time": "2024-12-12T12:15:26.423493",
     "status": "completed"
    },
    "tags": []
   },
   "source": [
    "# Question 9. Highest frequency of Medical conditions by gender"
   ]
  },
  {
   "cell_type": "code",
   "execution_count": 42,
   "id": "22960249",
   "metadata": {
    "execution": {
     "iopub.execute_input": "2024-12-12T12:15:26.476752Z",
     "iopub.status.busy": "2024-12-12T12:15:26.476368Z",
     "iopub.status.idle": "2024-12-12T12:15:26.494739Z",
     "shell.execute_reply": "2024-12-12T12:15:26.493672Z"
    },
    "papermill": {
     "duration": 0.039309,
     "end_time": "2024-12-12T12:15:26.497111",
     "exception": false,
     "start_time": "2024-12-12T12:15:26.457802",
     "status": "completed"
    },
    "tags": []
   },
   "outputs": [
    {
     "data": {
      "text/plain": [
       "Gender  Medical Condition\n",
       "Female  Arthritis            4686\n",
       "        Diabetes             4651\n",
       "        Obesity              4622\n",
       "        Hypertension         4612\n",
       "        Cancer               4602\n",
       "        Asthma               4553\n",
       "Male    Diabetes             4653\n",
       "        Hypertension         4633\n",
       "        Asthma               4632\n",
       "        Cancer               4625\n",
       "        Arthritis            4622\n",
       "        Obesity              4609\n",
       "Name: count, dtype: int64"
      ]
     },
     "execution_count": 42,
     "metadata": {},
     "output_type": "execute_result"
    }
   ],
   "source": [
    "# Calculate the highest medical condition for males and females\n",
    "gender_medical_condition = df.groupby('Gender')['Medical Condition'].value_counts()\n",
    "gender_medical_condition"
   ]
  },
  {
   "cell_type": "markdown",
   "id": "a05440d3",
   "metadata": {
    "papermill": {
     "duration": 0.017313,
     "end_time": "2024-12-12T12:15:26.532358",
     "exception": false,
     "start_time": "2024-12-12T12:15:26.515045",
     "status": "completed"
    },
    "tags": []
   },
   "source": [
    "# SUMMARY OF FINDINGS"
   ]
  },
  {
   "cell_type": "markdown",
   "id": "52536958",
   "metadata": {
    "papermill": {
     "duration": 0.017093,
     "end_time": "2024-12-12T12:15:26.566917",
     "exception": false,
     "start_time": "2024-12-12T12:15:26.549824",
     "status": "completed"
    },
    "tags": []
   },
   "source": [
    "1. Age, Gender are important factors in determining the type of medical condition that leads to hospitalization.\n",
    "2. The type of Medical condition determines how long one will stay hospitalized"
   ]
  },
  {
   "cell_type": "code",
   "execution_count": null,
   "id": "ad39514e",
   "metadata": {
    "papermill": {
     "duration": 0.017382,
     "end_time": "2024-12-12T12:15:26.601681",
     "exception": false,
     "start_time": "2024-12-12T12:15:26.584299",
     "status": "completed"
    },
    "tags": []
   },
   "outputs": [],
   "source": []
  }
 ],
 "metadata": {
  "colab": {
   "authorship_tag": "ABX9TyNPH8mkqIzQpy7LnNPITmjR",
   "provenance": []
  },
  "kaggle": {
   "accelerator": "none",
   "dataSources": [
    {
     "datasetId": 3934836,
     "sourceId": 8356547,
     "sourceType": "datasetVersion"
    }
   ],
   "dockerImageVersionId": 30804,
   "isGpuEnabled": false,
   "isInternetEnabled": false,
   "language": "python",
   "sourceType": "notebook"
  },
  "kernelspec": {
   "display_name": "Python 3",
   "language": "python",
   "name": "python3"
  },
  "language_info": {
   "codemirror_mode": {
    "name": "ipython",
    "version": 3
   },
   "file_extension": ".py",
   "mimetype": "text/x-python",
   "name": "python",
   "nbconvert_exporter": "python",
   "pygments_lexer": "ipython3",
   "version": "3.10.14"
  },
  "papermill": {
   "default_parameters": {},
   "duration": 9.787876,
   "end_time": "2024-12-12T12:15:27.240884",
   "environment_variables": {},
   "exception": null,
   "input_path": "__notebook__.ipynb",
   "output_path": "__notebook__.ipynb",
   "parameters": {},
   "start_time": "2024-12-12T12:15:17.453008",
   "version": "2.6.0"
  }
 },
 "nbformat": 4,
 "nbformat_minor": 5
}
